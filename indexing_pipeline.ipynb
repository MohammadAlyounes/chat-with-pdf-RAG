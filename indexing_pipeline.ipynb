{
 "cells": [
  {
   "metadata": {},
   "cell_type": "markdown",
   "source": "## 1. Data Loading",
   "id": "60eaab159d1c6e9e"
  },
  {
   "metadata": {
    "ExecuteTime": {
     "end_time": "2025-07-23T04:26:17.547961Z",
     "start_time": "2025-07-23T04:26:12.426389Z"
    }
   },
   "cell_type": "code",
   "source": [
    "# Load the data from a PDF file and extract the text\n",
    "\n",
    "from langchain.document_loaders import PyMuPDFLoader\n",
    "# Load the PDF file\n",
    "loader = PyMuPDFLoader(\"pdf_file\\AI, Automation, and War The Rise of a Military-Tech Complex (Anthony King).pdf\")\n",
    "documents = loader.load()"
   ],
   "id": "f2c066e1277f3a4",
   "outputs": [],
   "execution_count": 1
  },
  {
   "metadata": {
    "ExecuteTime": {
     "end_time": "2025-07-23T04:26:17.589531Z",
     "start_time": "2025-07-23T04:26:17.581834Z"
    }
   },
   "cell_type": "code",
   "source": [
    "# Remove pages that are mostly whitespace or very short\n",
    "documents = [\n",
    "    doc for doc in documents\n",
    "    if len(doc.page_content.strip()) > 100  # adjustable threshold\n",
    "]"
   ],
   "id": "6aea639370267a55",
   "outputs": [],
   "execution_count": 2
  },
  {
   "metadata": {
    "ExecuteTime": {
     "end_time": "2025-07-23T04:26:17.612013Z",
     "start_time": "2025-07-23T04:26:17.605519Z"
    }
   },
   "cell_type": "code",
   "source": "documents = [doc for doc in documents if doc.metadata[\"page\"] > 8]",
   "id": "b6cd053ca04965b6",
   "outputs": [],
   "execution_count": 3
  },
  {
   "metadata": {
    "ExecuteTime": {
     "end_time": "2025-07-23T04:26:17.637709Z",
     "start_time": "2025-07-23T04:26:17.629778Z"
    }
   },
   "cell_type": "code",
   "source": [
    "# Clean the extracted pdf text\n",
    "\n",
    "import re\n",
    "\n",
    "def clean_text(text: str) -> str:\n",
    "    text = text.replace('\\x0c', '')                 # common page-break character\n",
    "    text = re.sub(r'\\s+\\n', '\\n', text)             # remove spaces before newlines\n",
    "    text = re.sub(r'\\n{2,}', '\\n\\n', text)          # collapse multiple newlines\n",
    "    text = re.sub(r'[^\\x00-\\x7F]+', ' ', text)      # remove weird unicode\n",
    "    text = re.sub(r' +', ' ', text)                 # remove extra spaces\n",
    "    return text.strip()\n"
   ],
   "id": "31a243a0ac99af81",
   "outputs": [],
   "execution_count": 4
  },
  {
   "metadata": {
    "ExecuteTime": {
     "end_time": "2025-07-23T04:26:17.796111Z",
     "start_time": "2025-07-23T04:26:17.653693Z"
    }
   },
   "cell_type": "code",
   "source": [
    "# Apply cleaning\n",
    "for doc in documents:\n",
    "    doc.page_content = clean_text(doc.page_content)"
   ],
   "id": "3026891b5b43b9c8",
   "outputs": [],
   "execution_count": 5
  },
  {
   "metadata": {
    "ExecuteTime": {
     "end_time": "2025-07-23T04:26:17.835156Z",
     "start_time": "2025-07-23T04:26:17.819780Z"
    }
   },
   "cell_type": "code",
   "source": [
    "# Display a sample of the extracted text after cleaning\n",
    "for i, doc in enumerate(documents[100:]):\n",
    "    print(f\"\\n--- Page {doc.metadata['page']} ---\")\n",
    "    print(doc.page_content[250:300])"
   ],
   "id": "8366ee9bfbc9a7bb",
   "outputs": [
    {
     "name": "stdout",
     "output_type": "stream",
     "text": [
      "\n",
      "--- Page 110 ---\n",
      " powers of AI, many have overlooked this human col\n",
      "\n",
      "--- Page 111 ---\n",
      "to examine\n",
      "how the armed forces are actually using\n",
      "\n",
      "--- Page 112 ---\n",
      "bout to automate command,\n",
      "then. Nevertheless, prec\n",
      "\n",
      "--- Page 113 ---\n",
      " \n",
      "ments of the planning process.\n",
      "Planning is not r\n",
      "\n",
      "--- Page 114 ---\n",
      " Russian attack on Kyiv in February 2022, the mode\n",
      "\n",
      "--- Page 115 ---\n",
      "\n",
      "ment learning; programmers specified the outcome,\n",
      "\n",
      "--- Page 116 ---\n",
      " potential: It was a state up/scale up ethos: move\n",
      "\n",
      "--- Page 117 ---\n",
      "uration\n",
      "of the database itself; commercial intelli\n",
      "\n",
      "--- Page 118 ---\n",
      "Maps.\n",
      "The system provided a commander with route c\n",
      "\n",
      "--- Page 119 ---\n",
      "he battlefield in real time and to communicate wit\n",
      "\n",
      "--- Page 120 ---\n",
      "make soldiers redundant; rather, it enables them t\n",
      "\n",
      "--- Page 121 ---\n",
      " facili \n",
      "tates the fusion of data from all sensors\n",
      "\n",
      "--- Page 122 ---\n",
      " large lan \n",
      "guage models or generative AI, like Ch\n",
      "\n",
      "--- Page 123 ---\n",
      " to move between macro understandings of regional \n",
      "\n",
      "--- Page 124 ---\n",
      " purely statistical grounds, has a good chance of \n",
      "\n",
      "--- Page 125 ---\n",
      "\n",
      "tions will themselves generate. AI, no matter how\n",
      "\n",
      "--- Page 126 ---\n",
      "ations and making all the decisions itself. Yet AI\n",
      "\n",
      "--- Page 127 ---\n",
      "he basis of their digital signatures. The national\n",
      "\n",
      "--- Page 128 ---\n",
      "s in May 2021, called Operation Guardian of the Wa\n",
      "\n",
      "--- Page 129 ---\n",
      "e sur \n",
      "veillance called Gorgon Stare. It involved \n",
      "\n",
      "--- Page 130 ---\n",
      "ost challenging prob lems, wide- area motion image\n",
      "\n",
      "--- Page 131 ---\n",
      "en, high- \n",
      "performant AI is critically dependent o\n",
      "\n",
      "--- Page 132 ---\n",
      " the north- west of England with a regional popula\n",
      "\n",
      "--- Page 133 ---\n",
      "ry opera \n",
      "tion. In both cases, there was a lack of\n",
      "\n",
      "--- Page 134 ---\n",
      "th intelligence. CIPHA was fully operational by Oc\n",
      "\n",
      "--- Page 135 ---\n",
      "anise\n",
      "the operation. It then divided these wards i\n",
      "\n",
      "--- Page 136 ---\n",
      "\n",
      "Where is the virus concentrated? I can see it. I \n",
      "\n",
      "--- Page 137 ---\n",
      " system\n",
      "algorithm into the mapping data to work ou\n",
      "\n",
      "--- Page 138 ---\n",
      "n t need information on the entire world. It is ve\n",
      "\n",
      "--- Page 139 ---\n",
      "li armed forces\n",
      "described this action as the first\n",
      "\n",
      "--- Page 140 ---\n",
      "rael s strikes were certainly more accurate than i\n",
      "\n",
      "--- Page 141 ---\n",
      ".\n",
      "The IDF have refuted many of the claims circulat\n",
      "\n",
      "--- Page 142 ---\n",
      "th\n",
      "Professor Buchan. There was close cooperation b\n",
      "\n",
      "--- Page 143 ---\n",
      " and\n",
      "target by pro cessing massive amounts of data\n",
      "\n",
      "--- Page 144 ---\n",
      "and the\n",
      " actual effects of cyber operations. The p\n",
      "\n",
      "--- Page 145 ---\n",
      "ons rely on AI.\n",
      "Offensive cyber operations have th\n",
      "\n",
      "--- Page 146 ---\n",
      "\n",
      "ing the other turbines.10 It seemed pos si ble th\n",
      "\n",
      "--- Page 147 ---\n",
      "viet\n",
      "victory in the Second World War, in Tallinn, \n",
      "\n",
      "--- Page 148 ---\n",
      "ble to cyberattacks. Only a week before the invasi\n",
      "\n",
      "--- Page 149 ---\n",
      " effort in their cyberattacks. According\n",
      "to David \n",
      "\n",
      "--- Page 150 ---\n",
      "been engaged in many\n",
      "of these cyberactivities. The\n",
      "\n",
      "--- Page 151 ---\n",
      " the more benign end of this digital influencing. \n",
      "\n",
      "--- Page 152 ---\n",
      " promoting their content over others. Consequently\n",
      "\n",
      "--- Page 153 ---\n",
      "eloped\n",
      "deepfake software because, as its director \n",
      "\n",
      "--- Page 154 ---\n",
      "tres to safety. In 2016, he led a raid to destroy \n",
      "\n",
      "--- Page 155 ---\n",
      "S\n",
      "cyber operations; each one was tabulated and num\n",
      "\n",
      "--- Page 156 ---\n",
      " attacked from the south, defeating Armenian force\n",
      "\n",
      "--- Page 157 ---\n",
      "sm during the Nagorno- Karabakh\n",
      "War was not Azerba\n",
      "\n",
      "--- Page 158 ---\n",
      "against Ukraine, and the effects\n",
      "have been signifi\n",
      "\n",
      "--- Page 159 ---\n",
      "n actors\n",
      "who are trying to subvert their opponents\n",
      "\n",
      "--- Page 160 ---\n",
      " become remarkably capable. It can process mountai\n",
      "\n",
      "--- Page 161 ---\n",
      " concept of\n",
      " human- machine teaming . When scholar\n",
      "\n",
      "--- Page 162 ---\n",
      " war but a partial automation of some aspects of w\n",
      "\n",
      "--- Page 163 ---\n",
      "\n",
      "tion of Human- AI Teams : The marriage of humans \n",
      "\n",
      "--- Page 164 ---\n",
      "\n",
      "Army is not contemplating total military automati\n",
      "\n",
      "--- Page 165 ---\n",
      "ncy. Yet this is a narrow, constricted way of look\n",
      "\n",
      "--- Page 166 ---\n",
      "en misrepresented. The successes of AI have\n",
      "been i\n",
      "\n",
      "--- Page 167 ---\n",
      "s work on\n",
      "the use of AI to regulate financial serv\n",
      "\n",
      "--- Page 168 ---\n",
      " The\n",
      "use of AI on littoral combat ships requires a\n",
      "\n",
      "--- Page 169 ---\n",
      "roperties. The solutions which\n",
      "they generate excee\n",
      "\n",
      "--- Page 170 ---\n",
      "orces\n",
      "invaded Ukraine in an unprovoked act of aggr\n",
      "\n",
      "--- Page 171 ---\n",
      "nded\n",
      "dramatically. The command was no longer merel\n",
      "\n",
      "--- Page 172 ---\n",
      "cial\n",
      "Operations Forces and in Afghanistan with Del\n",
      "\n",
      "--- Page 173 ---\n",
      "so that all\n",
      "his staff, whether civilian or militar\n",
      "\n",
      "--- Page 174 ---\n",
      " descriptions of Russian troops and equipment, and\n",
      "\n",
      "--- Page 175 ---\n",
      "\n",
      "Where are allied forces? Where is the enemy? Whic\n",
      "\n",
      "--- Page 176 ---\n",
      "eadquarters at Wiesbaden. To be effective, they co\n",
      "\n",
      "--- Page 177 ---\n",
      "ould have\n",
      "on their own. It was an advanced tool. T\n",
      "\n",
      "--- Page 178 ---\n",
      " profound. A common\n",
      "presumption is that AI is not \n",
      "\n",
      "--- Page 179 ---\n",
      "trategically\n",
      "decisive. Airpower did not remotely w\n",
      "\n",
      "--- Page 180 ---\n",
      "nding. AI algorithms, trained on large datasets, h\n",
      "\n",
      "--- Page 181 ---\n",
      "t is more\n",
      "fruitful to locate it in its social and \n",
      "\n",
      "--- Page 182 ---\n",
      "Staff officers and commanders collectively determi\n",
      "\n",
      "--- Page 183 ---\n",
      "ormed long- \n",
      "term partnerships with the armed forc\n",
      "\n",
      "--- Page 184 ---\n",
      "y have no fear of God, they do not keep faith with\n",
      "\n",
      "--- Page 185 ---\n",
      "on, the com \n",
      "pany was providing communications for\n",
      "\n",
      "--- Page 186 ---\n",
      "used for defensive purposes only. Indeed, inside t\n",
      "\n",
      "--- Page 187 ---\n",
      "and even military\n",
      "operations themselves. A new civ\n",
      "\n",
      "--- Page 188 ---\n",
      "ted and intrusive spying systems, the purpose of w\n",
      "\n",
      "--- Page 189 ---\n",
      "d as combat \n",
      "ants, with the legal authority to eng\n",
      "\n",
      "--- Page 190 ---\n",
      " other, more pertinent issues which the military a\n",
      "\n",
      "--- Page 191 ---\n",
      " the regime of AI- \n",
      "enabled targeting, multiple se\n",
      "\n",
      "--- Page 192 ---\n",
      " the First World War.\n",
      " After Bakhmut eventually fe\n",
      "\n",
      "--- Page 193 ---\n",
      "war between the US\n",
      "and China be like? Prediction i\n",
      "\n",
      "--- Page 194 ---\n",
      "e decisive. The US Marine Corps is relinquishing i\n",
      "\n",
      "--- Page 195 ---\n",
      ", failing\n",
      "to adopt mapping and charts.\n",
      "Yet AI is n\n",
      "\n",
      "--- Page 197 ---\n",
      "arer, 10.\n",
      "4. James Lovelock, The Novacene: The Com\n",
      "\n",
      "--- Page 198 ---\n",
      " .html.\n",
      "20. Donald Mackenzie, Trading at the Speed\n",
      "\n",
      "--- Page 199 ---\n",
      "trol (Lon \n",
      "don: Allen Lane, 2019).\n",
      "43. Stuart Russ\n",
      "\n",
      "--- Page 200 ---\n",
      "udies, 20(1) (2020), 10.\n",
      "68. Jon Harper, Pentagon \n",
      "\n",
      "--- Page 201 ---\n",
      "lligence Has Shaped the Russia- Ukraine War .\n",
      "97. \n",
      "\n",
      "--- Page 202 ---\n",
      "522;\n",
      "also Crawford, Atlas of AI, 128.\n",
      "31. Marcus a\n",
      "\n",
      "--- Page 203 ---\n",
      "tone, Amazon Unbound, 151.\n",
      "67. Stone, Amazon Unbou\n",
      "\n",
      "--- Page 204 ---\n",
      "- DOMAIN - COMMAND - AND - CONTROL - STRATEGY \n",
      ".PD\n",
      "\n",
      "--- Page 205 ---\n",
      "lobalassets / media - library - - - content - - mi\n",
      "\n",
      "--- Page 206 ---\n",
      "alez, War Virtually, 68.\n",
      "31. Isaac son, Elon Musk,\n",
      "\n",
      "--- Page 207 ---\n",
      "- british - military - 2022 - 12 -21.\n",
      "58. Soare, S\n",
      "\n",
      "--- Page 208 ---\n",
      "ors in a Global\n",
      "Era: An Ethnographic Study of the \n",
      "\n",
      "--- Page 209 ---\n",
      " See chapter 3.\n",
      "4. The Economist, Predict and Surv\n",
      "\n",
      "--- Page 210 ---\n",
      "ces - on - a - shoestring -11672741405.\n",
      "25. Schech\n",
      "\n",
      "--- Page 211 ---\n",
      "Jack) N.T. Shanahan, Lieutenant General, US Air Fo\n",
      "\n",
      "--- Page 212 ---\n",
      "cial\n",
      "Intelligence .\n",
      "49. Jewish Institute for Natio\n",
      "\n",
      "--- Page 213 ---\n",
      "e - cyber - campaign - attempted - political -inte\n",
      "\n",
      "--- Page 214 ---\n",
      " Daniel Chernobrov, Diasporas as Cyberwarriors: In\n",
      "\n",
      "--- Page 215 ---\n",
      "14), 74 80.\n",
      "21. Johnson et al., Seven Cardinal Vir\n",
      "\n",
      "--- Page 216 ---\n",
      "ity Press, 2010).\n",
      "4. Max Weber, Politics as a Voca\n",
      "\n",
      "--- Page 217 ---\n",
      "lated Bombing of Gaza , +972\n",
      "Magazine, 30 November\n",
      "\n",
      "--- Page 218 ---\n",
      "ta . com / statistics / 266206 / googles - annual \n",
      "\n",
      "--- Page 219 ---\n",
      "e in an Age of Technology and Turmoil (London: WH \n",
      "\n",
      "--- Page 220 ---\n",
      "nd Ubiquitous Computing, 10 (2006), 255 68.\n",
      "The Ec\n",
      "\n",
      "--- Page 221 ---\n",
      "46 / 3 / 7 / 109668 / Prediction - and - Judgment \n",
      "\n",
      "--- Page 222 ---\n",
      "open - source - intelligence - has - shaped - the \n",
      "\n",
      "--- Page 223 ---\n",
      "so Vera, No AI is an Island: The Case for Teaming \n",
      "\n",
      "--- Page 224 ---\n",
      " What s Really There , Lawfare,\n",
      "30 September 2022.\n",
      "\n",
      "--- Page 225 ---\n",
      "ansform How\n",
      "We Live, Work, and Think (New York: Ma\n",
      "\n",
      "--- Page 226 ---\n",
      "ts Defense Technology Future , US\n",
      "Department of De\n",
      "\n",
      "--- Page 227 ---\n",
      " - a - shoestring -11672741405.\n",
      "Schmidt, Eric, Inn\n",
      "\n",
      "--- Page 228 ---\n",
      "or - nato / index .html.\n",
      "Stone, Brad, Amazon Unbou\n",
      "\n",
      "--- Page 229 ---\n",
      "425 .pdf.\n",
      "US Special Operations Command, Fiscal Ye\n",
      "\n",
      "--- Page 230 ---\n",
      ". com \n",
      "/ MichaelYonFanPage / photos / deuce - four\n",
      "\n",
      "--- Page 231 ---\n",
      "n, 125;\n",
      "Palantir software in, 86 87, 159; Special\n",
      "\n",
      "\n",
      "--- Page 232 ---\n",
      "66,\n",
      "167; improbable with AI, 31, 35, 42, 167;\n",
      "with\n",
      "\n",
      "--- Page 233 ---\n",
      "nized by AI, 30 31, 34,\n",
      "36, 42\n",
      "contracting: in bus\n",
      "\n",
      "--- Page 234 ---\n",
      "utsourced to non- human agents, 8;\n",
      "of Proj ect Mav\n",
      "\n",
      "--- Page 235 ---\n",
      "ing human labour from analy sis,\n",
      "153 57; as form o\n",
      "\n",
      "--- Page 236 ---\n",
      "17; self- driving car and,\n",
      "36; of structural destr\n",
      "\n",
      "--- Page 237 ---\n",
      "29, 31\n",
      "Operation Glowing Symphony, 142 43, 147\n",
      "Ope\n",
      "\n",
      "--- Page 238 ---\n",
      "in, 19, 142, 167; full- scale\n",
      "invasion in, 136, 15\n",
      "\n",
      "--- Page 239 ---\n",
      "in politico- military hierarchies, 91;\n",
      "unique stat\n",
      "\n",
      "--- Page 240 ---\n",
      " 24, 28\n",
      "Trenchard, Hugh, 166\n",
      "Trump, Donald, Thiel \n"
     ]
    }
   ],
   "execution_count": 6
  },
  {
   "metadata": {
    "ExecuteTime": {
     "end_time": "2025-07-23T04:26:17.911530Z",
     "start_time": "2025-07-23T04:26:17.898825Z"
    }
   },
   "cell_type": "code",
   "source": [
    "import re\n",
    "\n",
    "def detect_back_matter_start(documents, threshold: float = 0.8) -> int | None:\n",
    "    \"\"\"\n",
    "    Detect the index in the document list where back matter begins (e.g., References, Bibliography, Index, etc.)\n",
    "\n",
    "    Parameters:\n",
    "    ----------\n",
    "    documents : List[Document]\n",
    "        The list of LangChain Document objects (e.g., from PyMuPDFLoader)\n",
    "    threshold : float\n",
    "        Percentage (default 0.85) of the book after which back matter is expected.\n",
    "\n",
    "    Returns:\n",
    "    -------\n",
    "    int | None\n",
    "        Index of the first back matter page, or None if not found.\n",
    "    \"\"\"\n",
    "\n",
    "    back_keywords = [\"bibliography\", \"references\", \"index\", \"appendix\", \"notes\"]\n",
    "    total_docs = len(documents)\n",
    "\n",
    "    # Add sequential index metadata if missing\n",
    "    for idx, doc in enumerate(documents):\n",
    "        doc.metadata[\"index\"] = idx\n",
    "\n",
    "    # Only scan the last (1 - threshold)% of the book\n",
    "    search_start = int(total_docs * threshold)\n",
    "\n",
    "    for i in range(search_start, total_docs):\n",
    "        doc = documents[i]\n",
    "        text = doc.page_content.lower()\n",
    "\n",
    "        # Extract all short lines to look for section titles\n",
    "        lines = text.splitlines()\n",
    "        short_lines = [line.strip() for line in lines if 3 <= len(line.strip()) <= 40]\n",
    "\n",
    "        for line in short_lines:\n",
    "            if re.match(r\"^(bibliography|references|index|appendix|notes)\\b\", line):\n",
    "                print(f\"🟡 Back matter detected on page {doc.metadata.get('page', 'unknown')} at index {i}\")\n",
    "                print(f\"➡️ Section header: {line}\")\n",
    "                return i\n",
    "\n",
    "    # If nothing found\n",
    "    print(\"✅ No back matter section found with current heuristic.\")\n",
    "    return None"
   ],
   "id": "387e2f9c784121ec",
   "outputs": [],
   "execution_count": 7
  },
  {
   "metadata": {
    "ExecuteTime": {
     "end_time": "2025-07-23T04:26:17.966084Z",
     "start_time": "2025-07-23T04:26:17.956836Z"
    }
   },
   "cell_type": "code",
   "source": [
    "# Detect start of back matter\n",
    "back_start_index = detect_back_matter_start(documents)\n",
    "\n",
    "# Split the documents\n",
    "if back_start_index:\n",
    "    main_docs = documents[:back_start_index]\n",
    "    back_docs = documents[back_start_index:]\n",
    "else:\n",
    "    main_docs = documents\n",
    "    back_docs = []\n",
    "\n",
    "print(f\"Main content: {len(main_docs)} pages | Back matter: {len(back_docs)} pages\")"
   ],
   "id": "d1d3085d56f40742",
   "outputs": [
    {
     "name": "stdout",
     "output_type": "stream",
     "text": [
      "🟡 Back matter detected on page 197 at index 186\n",
      "➡️ Section header: notes\n",
      "Main content: 186 pages | Back matter: 44 pages\n"
     ]
    }
   ],
   "execution_count": 8
  },
  {
   "metadata": {
    "ExecuteTime": {
     "end_time": "2025-07-23T04:26:18.051169Z",
     "start_time": "2025-07-23T04:26:18.037864Z"
    }
   },
   "cell_type": "code",
   "source": [
    "# Print a sample of back docs\n",
    "back_docs[0].page_content"
   ],
   "id": "ee2b66a326dab0f7",
   "outputs": [
    {
     "data": {
      "text/plain": [
       "'NOTES\\n1. Robot Wars\\n1. Ray Kurzweil, The Singularity is Near: When Humans Transcend Biology (London: Duck \\nworth, 2005).\\n2. Ray Kurzweil, The Singularity is Nearer: When We Merge with AI (Oxford: Bodley Head,\\n2024).\\n3. Kurzweil, The Singularity is Nearer, 10.\\n4. James Lovelock, The Novacene: The Coming Age of Hyperintelligence (London: Penguin\\nBooks, 2020), 111.\\n5. Mustafa Suleyman with Michael Bhaskar, The Coming Wave: AI, Power and the Twenty- first\\n Century s Greatest Dilemma (London: Bodley Head, 2023), 3.\\n6. Melanie Mitchell, Artificial Intelligence: A Guide for Thinking Humans (London: Pelican,\\n2019), 198 9.\\n7. Suleyman, The Coming Wave, 53.\\n8. Suleyman, The Coming Wave, 51.\\n9. Suleyman, The Coming Wave, 53.\\n10. Marcus du Sautoy, The Creativity Code: Art and Innovation in the Age of AI (Cambridge,\\nMA: The Belknap Press, 2019), 31.\\n11. Matthew Sparkes, DeepMind s Protein- Folding AI Cracks Biology s Biggest Prob lem ,\\nNew Scientist, 28 July 2022, https:// www . newscientist . com / article / 2330866 - deepminds - protein \\n- folding - ai - cracks - biologys - biggest -problem.\\n12. Sparkes, DeepMind s Protein- Folding AI Cracks Biology s Biggest Prob lem .\\n13. Chiara Longoni and Carey Morewedge, AI Can Outperform Doctors. So Why Don t\\nPatients Trust It? , Harvard Business Review, 30 October 2019, https:// hbr . org / 2019 / 10 / ai - can \\n- outperform - doctors - so - why - dont - patients - trust -it.\\n14. Jeremy Hsu, AI Discovers New Class of Antibiotics to Kill Drug- Resistant Bacteria , New\\nScientist, 20 December 2023, https:// www . newscientist . com / article / 2409706 - ai - discovers - new \\n- class - of - antibiotics - to - kill - drug - resistant - bacteria / #:~:text =The%20researchers%20have%20\\nbegun%20using,such%20as%20osteoarthritis%20and%20cancer.\\n15. Hsu, AI Discovers New Class of Antibiotics to Kill Drug- Resistant Bacteria .\\n16. Nick Bostrom, Superintelligence: Paths, Dangers, Strategies (Oxford: Oxford University\\nPress, 2017), 9.\\n17. Viktor Mayer- Sch nberger and Kenneth Cukier, Big Data: A Revolution that Will Trans \\nform How We Live, Work, and Think (New York: Mari ner Books, Houghton Mifflin Harcourt,\\n2014), 145-6.\\n18. Brad Stone, Amazon Unbound: Jeff Bezos and the Invention of a Global Empire (London:\\nSimon & Schuster, 2021); Brad Stone, The Every thing Store: Jeff Bezos and the Age of Amazon\\n(London: Corgi, 2018).'"
      ]
     },
     "execution_count": 9,
     "metadata": {},
     "output_type": "execute_result"
    }
   ],
   "execution_count": 9
  },
  {
   "metadata": {},
   "cell_type": "markdown",
   "source": "## 2. Data Chunking",
   "id": "c803d81113b32227"
  },
  {
   "metadata": {
    "ExecuteTime": {
     "end_time": "2025-07-23T04:26:18.287732Z",
     "start_time": "2025-07-23T04:26:18.144496Z"
    }
   },
   "cell_type": "code",
   "source": [
    "from langchain.text_splitter import RecursiveCharacterTextSplitter\n",
    "\n",
    "text_splitter = RecursiveCharacterTextSplitter(\n",
    "    chunk_size=800,\n",
    "    chunk_overlap=100,\n",
    "    separators=[\"\\n\\n\", \"\\n\", \".\", \"!\", \"?\", \" \", \"\"]\n",
    ")\n",
    "chunks = text_splitter.split_documents(main_docs)"
   ],
   "id": "8808002aff1ce11a",
   "outputs": [],
   "execution_count": 10
  },
  {
   "metadata": {
    "ExecuteTime": {
     "end_time": "2025-07-23T04:26:18.321090Z",
     "start_time": "2025-07-23T04:26:18.309777Z"
    }
   },
   "cell_type": "code",
   "source": "type(chunks)",
   "id": "ce2883714dae7910",
   "outputs": [
    {
     "data": {
      "text/plain": [
       "list"
      ]
     },
     "execution_count": 11,
     "metadata": {},
     "output_type": "execute_result"
    }
   ],
   "execution_count": 11
  },
  {
   "metadata": {
    "ExecuteTime": {
     "end_time": "2025-07-23T04:26:18.377487Z",
     "start_time": "2025-07-23T04:26:18.364620Z"
    }
   },
   "cell_type": "code",
   "source": "len(chunks)",
   "id": "bd96dcb81e3678fb",
   "outputs": [
    {
     "data": {
      "text/plain": [
       "880"
      ]
     },
     "execution_count": 12,
     "metadata": {},
     "output_type": "execute_result"
    }
   ],
   "execution_count": 12
  },
  {
   "metadata": {
    "ExecuteTime": {
     "end_time": "2025-07-23T04:26:18.446064Z",
     "start_time": "2025-07-23T04:26:18.433657Z"
    }
   },
   "cell_type": "code",
   "source": "main_docs[-1].page_content",
   "id": "199e2657bcb3008b",
   "outputs": [
    {
     "data": {
      "text/plain": [
       "'War at the Speed of Light 183\\nwhich wants to wield military power has to embrace AI with which to enable\\nand augment its armed forces. To do other wise would be like failing to adopt\\ngunpowder, airpower, tanks, or aircraft or perhaps, even more aptly, failing\\nto adopt mapping and charts.\\nYet AI is not miraculous; it is not magic. AI offers novel capabilities, but its\\npotential can be harnessed only through profound organisational reformation.\\nA new relationship between the armed forces and the tech sector is required.\\nConsequently, as armed forces pursue AI, a military- tech complex is\\nappearing. In the next decade, the partnership between the state military\\nforces and the private tech companies is likely to consolidate and deepen.\\nUtopian or dystopian visions of war conducted by supercomputers and killer\\ndrone swarms are phantasmagorical. Nevertheless, an emerging military- tech\\ncomplex transforms the way in which states defend themselves and fight each\\nother. The increasing reliance of the armed forces on the data, the expertise,\\nthe computing power, and the capital of the tech sector has profound implica \\ntions not just for the armed forces but for civil- military relations themselves. It\\nrevises the political settlements which were established between governments,\\nindustry, and the armed forces in the twentieth century. It alters the relation \\nship between the armed forces and the private sector, the relationship between\\nthe armed forces and the state, and the relationship between the armed forces\\nand citizens. It also changes the relationship between rival militaries.\\nA military- tech complex does not change the nature of war, of course.\\nIt may not even revolutionise the character of war; it seems to be affirming\\nonly the current trend towards attritional and positional warfare. In the next\\n decade, warfare is not going to fulfil the fantasies of science- fiction writers.\\nCyborgs will not take over. Supercomputers and killer robots and drones will\\nnot replace humans. Nevertheless, it is imperative that no one be under any\\nillusion. The development of AI and its accompanying military- tech complex\\n will change the armed forces, the way they fight, and their relations to the state\\nand society. We are on the edge of a historic reformation of military affairs.'"
      ]
     },
     "execution_count": 13,
     "metadata": {},
     "output_type": "execute_result"
    }
   ],
   "execution_count": 13
  },
  {
   "metadata": {
    "ExecuteTime": {
     "end_time": "2025-07-23T04:26:18.516649Z",
     "start_time": "2025-07-23T04:26:18.504387Z"
    }
   },
   "cell_type": "code",
   "source": "back_docs[0].page_content",
   "id": "f75f6cda1191ac4",
   "outputs": [
    {
     "data": {
      "text/plain": [
       "'NOTES\\n1. Robot Wars\\n1. Ray Kurzweil, The Singularity is Near: When Humans Transcend Biology (London: Duck \\nworth, 2005).\\n2. Ray Kurzweil, The Singularity is Nearer: When We Merge with AI (Oxford: Bodley Head,\\n2024).\\n3. Kurzweil, The Singularity is Nearer, 10.\\n4. James Lovelock, The Novacene: The Coming Age of Hyperintelligence (London: Penguin\\nBooks, 2020), 111.\\n5. Mustafa Suleyman with Michael Bhaskar, The Coming Wave: AI, Power and the Twenty- first\\n Century s Greatest Dilemma (London: Bodley Head, 2023), 3.\\n6. Melanie Mitchell, Artificial Intelligence: A Guide for Thinking Humans (London: Pelican,\\n2019), 198 9.\\n7. Suleyman, The Coming Wave, 53.\\n8. Suleyman, The Coming Wave, 51.\\n9. Suleyman, The Coming Wave, 53.\\n10. Marcus du Sautoy, The Creativity Code: Art and Innovation in the Age of AI (Cambridge,\\nMA: The Belknap Press, 2019), 31.\\n11. Matthew Sparkes, DeepMind s Protein- Folding AI Cracks Biology s Biggest Prob lem ,\\nNew Scientist, 28 July 2022, https:// www . newscientist . com / article / 2330866 - deepminds - protein \\n- folding - ai - cracks - biologys - biggest -problem.\\n12. Sparkes, DeepMind s Protein- Folding AI Cracks Biology s Biggest Prob lem .\\n13. Chiara Longoni and Carey Morewedge, AI Can Outperform Doctors. So Why Don t\\nPatients Trust It? , Harvard Business Review, 30 October 2019, https:// hbr . org / 2019 / 10 / ai - can \\n- outperform - doctors - so - why - dont - patients - trust -it.\\n14. Jeremy Hsu, AI Discovers New Class of Antibiotics to Kill Drug- Resistant Bacteria , New\\nScientist, 20 December 2023, https:// www . newscientist . com / article / 2409706 - ai - discovers - new \\n- class - of - antibiotics - to - kill - drug - resistant - bacteria / #:~:text =The%20researchers%20have%20\\nbegun%20using,such%20as%20osteoarthritis%20and%20cancer.\\n15. Hsu, AI Discovers New Class of Antibiotics to Kill Drug- Resistant Bacteria .\\n16. Nick Bostrom, Superintelligence: Paths, Dangers, Strategies (Oxford: Oxford University\\nPress, 2017), 9.\\n17. Viktor Mayer- Sch nberger and Kenneth Cukier, Big Data: A Revolution that Will Trans \\nform How We Live, Work, and Think (New York: Mari ner Books, Houghton Mifflin Harcourt,\\n2014), 145-6.\\n18. Brad Stone, Amazon Unbound: Jeff Bezos and the Invention of a Global Empire (London:\\nSimon & Schuster, 2021); Brad Stone, The Every thing Store: Jeff Bezos and the Age of Amazon\\n(London: Corgi, 2018).'"
      ]
     },
     "execution_count": 14,
     "metadata": {},
     "output_type": "execute_result"
    }
   ],
   "execution_count": 14
  },
  {
   "metadata": {},
   "cell_type": "markdown",
   "source": "## 3. Data Embeddings (Convert text to numerical vector space)\n",
   "id": "cafd7f72f3c7ba37"
  },
  {
   "metadata": {
    "ExecuteTime": {
     "end_time": "2025-07-23T04:26:45.033927Z",
     "start_time": "2025-07-23T04:26:18.598539Z"
    }
   },
   "cell_type": "code",
   "source": [
    "from sentence_transformers import SentenceTransformer\n",
    "\n",
    "# Load the local embedding model (downloaded)\n",
    "embeder = SentenceTransformer(\"all-MiniLM-L6-v2\")"
   ],
   "id": "61be61b6e1381acf",
   "outputs": [],
   "execution_count": 15
  },
  {
   "metadata": {
    "ExecuteTime": {
     "end_time": "2025-07-23T04:31:48.931588Z",
     "start_time": "2025-07-23T04:31:40.232453Z"
    }
   },
   "cell_type": "code",
   "source": [
    "# Apply the embeder to the main_docs\n",
    "hf_embeder = embeder.encode([doc.page_content for doc in main_docs])\n",
    "\n",
    "print(f\"The lenght of the embeddings vector is {len(hf_embeder[0])}\")\n",
    "print(f\"The embeddings object is an array of {len(hf_embeder)} X {len(hf_embeder[0])}\")"
   ],
   "id": "c14e52ba5390f5aa",
   "outputs": [
    {
     "name": "stdout",
     "output_type": "stream",
     "text": [
      "The lenght of the embeddings vector is 384\n",
      "The embeddings object is an array of 186 X 384\n"
     ]
    }
   ],
   "execution_count": 16
  },
  {
   "metadata": {},
   "cell_type": "markdown",
   "source": "## 4. Storage Embeddings (Vector DB)",
   "id": "46860f5fd3d3d002"
  },
  {
   "metadata": {
    "ExecuteTime": {
     "end_time": "2025-07-23T04:34:36.625698Z",
     "start_time": "2025-07-23T04:34:36.613850Z"
    }
   },
   "cell_type": "code",
   "source": "hf_embeder[0]",
   "id": "dabf7620d5be1747",
   "outputs": [
    {
     "data": {
      "text/plain": [
       "array([-1.69724934e-02, -4.83500883e-02, -2.03245953e-02, -3.81211676e-02,\n",
       "        1.81356929e-02,  4.71930578e-02, -1.19044986e-02,  1.17731774e-02,\n",
       "        5.99678718e-02,  3.97858098e-02,  5.29544912e-02, -4.07153033e-02,\n",
       "        6.03128299e-02,  1.64970681e-02,  3.99392061e-02, -5.91814891e-02,\n",
       "       -9.50705202e-04, -1.24078542e-02,  1.78423449e-02, -1.87498815e-02,\n",
       "       -5.99571094e-02, -8.76775905e-02,  2.88868025e-02,  7.22973980e-03,\n",
       "       -2.48367377e-02, -4.14324179e-02,  3.56743708e-02, -3.27807330e-02,\n",
       "       -3.17296274e-02, -1.97380912e-02,  7.87897781e-02,  1.19022772e-01,\n",
       "        2.23127399e-02,  3.16709466e-02, -1.34714646e-02,  1.49367884e-01,\n",
       "        3.15167643e-02,  6.26332089e-02,  7.19109103e-02,  6.33638352e-02,\n",
       "       -9.64447856e-02, -3.35192531e-02,  4.96140532e-02, -7.06251785e-02,\n",
       "        5.11290543e-02,  2.04872098e-02,  3.16320211e-02, -2.99573150e-02,\n",
       "       -6.34517670e-02, -1.52521264e-02, -6.56698197e-02,  9.36113205e-03,\n",
       "        5.11933863e-02,  4.74824607e-02,  1.63404439e-02, -3.68491895e-02,\n",
       "        7.12410584e-02,  4.34996299e-02,  8.18570424e-03, -6.06031567e-02,\n",
       "        2.47520301e-02, -3.37449089e-02, -1.71853621e-02, -2.96356101e-02,\n",
       "       -6.57379813e-03,  3.83517556e-02,  3.26872850e-03,  8.87894779e-02,\n",
       "       -2.43690610e-02, -3.10248625e-03,  8.61484706e-02,  1.53947808e-02,\n",
       "       -5.89850731e-02,  5.62061965e-02,  2.41226070e-02,  1.23189585e-02,\n",
       "       -1.85257308e-02,  4.02273498e-02,  5.24070673e-02, -1.35030195e-01,\n",
       "        1.03644826e-01,  3.26921977e-02,  3.39065416e-04,  3.16549204e-02,\n",
       "       -4.26576138e-02, -4.09839116e-02,  1.45071568e-02, -5.31695113e-02,\n",
       "        8.57971907e-02,  6.83729798e-02, -5.28955348e-02,  1.38267288e-02,\n",
       "        1.26678217e-02, -2.27609612e-02,  1.29024357e-01,  7.99137168e-03,\n",
       "       -7.71960430e-03,  4.61053737e-02,  1.74274929e-02,  7.22266212e-02,\n",
       "        7.34918267e-02, -3.66593003e-02, -8.41884091e-02,  2.52135340e-02,\n",
       "       -4.73333299e-02, -4.37395200e-02,  6.98088063e-03, -3.86759900e-02,\n",
       "       -3.40534151e-02, -3.25742946e-03, -6.13591000e-02,  1.73294786e-02,\n",
       "       -1.03487723e-01, -6.77125007e-02, -9.93611012e-03, -4.41058762e-02,\n",
       "        3.32585983e-02,  4.04967070e-02,  4.47805040e-02,  5.38864136e-02,\n",
       "        1.42716756e-02, -4.25768457e-02, -3.23852301e-02,  5.41535392e-02,\n",
       "        1.35439113e-01,  6.64609820e-02, -2.47221664e-02,  5.46598592e-33,\n",
       "       -6.28875867e-02, -6.78644478e-02, -8.03669095e-02,  9.30386037e-02,\n",
       "       -3.52592319e-02, -1.47196576e-02, -7.42834136e-02, -3.05351848e-03,\n",
       "        5.88621125e-02, -5.37302904e-02, -5.81939593e-02,  1.04653426e-01,\n",
       "        6.84923828e-02, -3.00154444e-02,  4.78083454e-02, -6.82929754e-02,\n",
       "       -3.93631496e-02,  4.70492952e-02, -4.98728007e-02, -2.54440848e-02,\n",
       "        1.26218554e-02, -3.67719389e-04, -7.43304640e-02, -8.58492479e-02,\n",
       "        1.44667050e-03, -1.98114552e-02, -3.21726948e-02, -1.85919032e-02,\n",
       "        9.99873225e-03,  4.03893515e-02, -7.39550637e-03,  5.64258657e-02,\n",
       "       -4.29516956e-02, -4.27028909e-02,  6.79371879e-02, -1.45338457e-02,\n",
       "        2.46422756e-02, -2.55922098e-02,  1.33744674e-03,  4.41608764e-03,\n",
       "       -5.09863235e-02, -1.78938499e-03, -4.15866449e-03, -2.49292459e-02,\n",
       "        5.35745993e-02,  1.03605025e-01,  1.93463229e-02, -1.56618338e-02,\n",
       "       -5.57564609e-02,  7.34804804e-03, -2.61071548e-02,  2.33927462e-02,\n",
       "        1.73498690e-02, -9.98658687e-02,  3.96538079e-02,  4.70448099e-02,\n",
       "       -6.63418621e-02,  2.07846984e-02, -6.21632766e-03, -2.07045376e-02,\n",
       "        3.70914489e-02,  4.26160805e-02,  1.09994505e-02,  7.05958605e-02,\n",
       "        2.36694943e-02, -4.25703861e-02, -1.10818148e-01,  3.52675654e-02,\n",
       "        1.35640308e-01, -3.46663478e-03, -2.64968090e-02,  3.55626754e-02,\n",
       "        1.49861453e-02, -6.42747432e-02, -4.60662181e-03, -7.73737533e-03,\n",
       "        1.01767834e-02,  7.90121406e-02, -4.62860204e-02, -5.42326570e-02,\n",
       "       -1.53080866e-01, -3.91049758e-02, -6.35131076e-02,  2.92999037e-02,\n",
       "        4.63731103e-02, -2.12439895e-02,  5.26144840e-02, -1.46200396e-02,\n",
       "       -3.24679501e-02,  5.60575500e-02, -9.45135802e-02, -5.63661195e-02,\n",
       "       -5.51589467e-02,  4.78887074e-02, -1.19734108e-02, -7.26130485e-33,\n",
       "       -1.41336434e-02,  8.98767356e-03, -6.58944622e-03, -6.08864538e-02,\n",
       "        6.30524233e-02,  1.04361009e-02, -3.68347019e-03, -6.18622974e-02,\n",
       "        6.49725785e-04,  9.29370299e-02, -6.26564622e-02, -7.00686499e-02,\n",
       "       -2.72920262e-02, -3.66375642e-03, -4.32008542e-02, -4.51362431e-02,\n",
       "        3.82273979e-02,  2.15132423e-02, -5.42442175e-03,  6.88443333e-02,\n",
       "        5.41720167e-02, -3.63211706e-02,  2.53433622e-02, -3.58219668e-02,\n",
       "        6.47348911e-02,  4.60187159e-02, -3.37736681e-02,  4.06901166e-02,\n",
       "       -6.89250603e-02, -2.84887850e-03, -3.76570248e-03, -8.42208415e-02,\n",
       "       -4.68318723e-02, -3.35914530e-02,  1.07438993e-02,  3.99566591e-02,\n",
       "        5.62575739e-03, -5.27933100e-03, -1.49810100e-02, -4.13393788e-02,\n",
       "       -4.41424400e-02,  2.13749605e-04, -9.04103070e-02, -3.48476097e-02,\n",
       "       -4.71942388e-02, -3.94287743e-02, -5.90317324e-02, -2.42651552e-02,\n",
       "       -6.76129684e-02, -2.11979393e-02, -1.67902522e-02, -1.38097834e-02,\n",
       "       -2.29361411e-02, -2.13709194e-02, -2.25210637e-02,  1.15785301e-02,\n",
       "       -5.96727198e-03, -2.73209438e-02, -1.68901041e-01,  1.16374657e-01,\n",
       "        4.20951694e-02,  3.88429128e-02, -3.85041833e-02,  4.82289754e-02,\n",
       "       -3.02490988e-03, -5.34255877e-02, -6.82003126e-02,  2.94406607e-04,\n",
       "       -1.16336215e-02,  6.12804294e-02,  1.89753808e-02, -3.62070277e-02,\n",
       "       -1.46880709e-02,  3.56394285e-03, -6.06972445e-03,  3.64361156e-04,\n",
       "        5.39829489e-03, -5.59251457e-02, -4.81492877e-02, -2.32720212e-03,\n",
       "       -5.11620119e-02, -4.88903522e-02, -4.22484986e-02, -2.98760198e-02,\n",
       "       -1.09538168e-01,  7.88105503e-02,  4.82256478e-03,  7.59064928e-02,\n",
       "        6.12060688e-02, -3.73819433e-02, -2.15989985e-02, -9.43767056e-02,\n",
       "        1.55691747e-02,  1.31784128e-02, -8.74118432e-02, -6.65901467e-08,\n",
       "       -2.72197705e-02, -7.71351252e-03,  4.38565426e-02,  7.76765794e-02,\n",
       "       -2.17476357e-02, -4.92999442e-02, -3.10740303e-02, -5.06912656e-02,\n",
       "       -3.46735679e-02,  5.07742539e-02, -5.94369210e-02, -8.76452494e-03,\n",
       "       -2.50569209e-02,  1.24680456e-02,  2.66030077e-02, -4.72027734e-02,\n",
       "        1.81755261e-03, -6.62578568e-02, -1.10595286e-01, -6.27219118e-03,\n",
       "        9.38243046e-02, -2.48618536e-02, -9.90099683e-02,  5.61084524e-02,\n",
       "        3.36205475e-02,  4.92020249e-02, -6.98146448e-02, -9.25546065e-02,\n",
       "        1.24084176e-02,  1.30242273e-01,  1.79288089e-02,  5.96746467e-02,\n",
       "       -7.16227517e-02, -4.08159290e-03,  2.92414743e-02,  4.41574864e-03,\n",
       "        7.01706633e-02,  1.71051808e-02,  1.98664553e-02, -9.28492658e-03,\n",
       "        4.02008416e-03, -3.16117369e-02,  6.79798424e-02,  3.77469398e-02,\n",
       "        1.07733093e-01,  2.60286182e-02, -2.56981533e-02,  5.47494099e-04,\n",
       "        8.76526907e-03,  8.91307252e-04,  3.95304859e-02,  2.43906230e-02,\n",
       "       -5.51264994e-02,  1.46900579e-01,  5.64518683e-02,  3.31491306e-02,\n",
       "        2.18349416e-02, -3.01006762e-03, -2.01915260e-02,  5.78710772e-02,\n",
       "        3.51973809e-02,  2.59963851e-02, -3.15856151e-02, -2.77971178e-02],\n",
       "      dtype=float32)"
      ]
     },
     "execution_count": 18,
     "metadata": {},
     "output_type": "execute_result"
    }
   ],
   "execution_count": 18
  },
  {
   "metadata": {},
   "cell_type": "code",
   "outputs": [],
   "execution_count": null,
   "source": [
    "import faiss\n",
    "from langchain_community.docstore.in_memory import InMemoryDocstore\n",
    "from langchain_community.vectorstores import FAISS\n",
    "\n"
   ],
   "id": "9f58e42f8d8adb27"
  }
 ],
 "metadata": {
  "kernelspec": {
   "display_name": "Python 3",
   "language": "python",
   "name": "python3"
  },
  "language_info": {
   "codemirror_mode": {
    "name": "ipython",
    "version": 2
   },
   "file_extension": ".py",
   "mimetype": "text/x-python",
   "name": "python",
   "nbconvert_exporter": "python",
   "pygments_lexer": "ipython2",
   "version": "2.7.6"
  }
 },
 "nbformat": 4,
 "nbformat_minor": 5
}
