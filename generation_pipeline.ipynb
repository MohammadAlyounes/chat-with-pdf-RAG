{
 "cells": [
  {
   "metadata": {},
   "cell_type": "markdown",
   "source": "## 1. Load data from Vector database",
   "id": "3d37b7bdd0d30d08"
  },
  {
   "cell_type": "code",
   "id": "initial_id",
   "metadata": {
    "collapsed": true,
    "ExecuteTime": {
     "end_time": "2025-07-25T05:12:55.170050Z",
     "start_time": "2025-07-25T05:12:46.896488Z"
    }
   },
   "source": [
    "from langchain_community.vectorstores import FAISS\n",
    "from langchain_huggingface import HuggingFaceEmbeddings\n",
    "\n",
    "embeddings = HuggingFaceEmbeddings(model_name=\"BAAI/bge-base-en-v1.5\")\n",
    "\n",
    "vector_store = FAISS.load_local(folder_path=\"./data\",index_name=\"BDF_index\", embeddings=embeddings,\n",
    "                                allow_dangerous_deserialization=True)"
   ],
   "outputs": [],
   "execution_count": 13
  },
  {
   "metadata": {},
   "cell_type": "markdown",
   "source": "## 2. Retrieval",
   "id": "e401ac0f00d07b90"
  },
  {
   "metadata": {
    "ExecuteTime": {
     "end_time": "2025-07-25T05:24:00.201078Z",
     "start_time": "2025-07-25T05:24:00.145396Z"
    }
   },
   "cell_type": "code",
   "source": [
    "# Check the retrival functionility\n",
    "\n",
    "import textwrap\n",
    "\n",
    "# Define the query\n",
    "query = \"Tell me about Operation Orchard action in Syria?\"\n",
    "# Perform similarity search\n",
    "retrieved_docs = vector_store.similarity_search(query, k=5)  # Get top 5 relevant chunks\n",
    "\n",
    "for i, doc in enumerate(retrieved_docs):\n",
    "    print(textwrap.fill(f\"\\nRetrieved Chunk {i+1}:\\n{doc.page_content}\",width=500))\n",
    "    print(\"\\n\\n\")"
   ],
   "id": "354bafa6d28c92d0",
   "outputs": [
    {
     "name": "stdout",
     "output_type": "stream",
     "text": [
      " Retrieved Chunk 1: should replace human personnel in all or even most military jobs. Rather, it identifies a specific military task an infantry soldier breaking into a defended building. This is one of the most dangerous actions a soldier can perform and has almost always incurred heavy casualties. Work s suggestion is that, for this one specific task, the US Army and the US Marines, whose troops might have to break into a building, might employ a robotic system instead of a human. For Work,\n",
      "automation should be part of the Third Offset Strategy, but it is by no means the only much less the most impor tant application of AI to military operations. In other statements, Work articulated this position clearly. For instance, on 28 April 2016, he gave a speech to the North Atlantic Council in Brussels in which he explained the Third Offset Strategy, encouraging council members to pursue their own innovation programmes in support of it. Autonomy was certainly not irrelevant to this\n",
      "speech. Work argued that AI and autonomy constituted the technological sauce of the Third Offset Strategy. Nevertheless, the content of the speech was intriguing. Work did not suggest that robots of any type were about to predominate. On the contrary, rather than equating his vision of automation with fully autonomous systems, he compared it\n",
      "\n",
      "\n",
      "\n",
      " Retrieved Chunk 2: location and timing of the strike were a coincidence. It seems more likely that the attack was a deliberate attempt on Gerasimov s life. The Ukrainians, it seems, were capable of precise, dynamic targeting at long ranges. They could not only find and strike an impor tant command post but could do so when a specific individual was inside it. The strike on Zabavne seems an improbable starting point, but it is a use  ful way of mapping the appearance of expert teams of military\n",
      "personnel and civilian technicians who are applying AI to military operations. The Zabavne strike and the pos si ble wounding of Gerasimov almost certainly as a result of a targeting process orchestrated by the US in support of the Ukrainian armed forces is a useful methodological device, therefore. Much of this targeting  process remains highly classified, but enough evidence has now filtered into the public domain for us to be able to reconstruct some ele ments of it. In order to explain the\n",
      "strike, it is necessary to analyse the command structure which enabled it. This analy sis takes us a long way from Zabavne. Following the Russian invasion of Ukraine, XVIII Airborne Corps, under Lieutenant General Christopher Donahue, assumed command of the Secu  rity Assistance Group Ukraine (SAG- U), based in Wiesbaden, Germany.\n",
      "\n",
      "\n",
      "\n",
      " Retrieved Chunk 3: That division, as Kochavi has stressed, includes hundreds of officers and sol  diers .59 Without those operators, the Gospel and Lavender could not function. It would be quite wrong to suggest that the Gospel and Lavender have displaced Israeli commanders, much less their legal and ethical responsibilities. Israeli commanders have to determine the parameters within which the Gospel and Lavender will operate; they have to direct the technicians to write and refine the\n",
      "software. They still make the final decision of whether to prosecute Hamas targets even if they have ruled that, because the operation is urgent, subordi  nates will have only twenty seconds to confirm a strike. AI has allowed the IDF to target more quickly, more accurately, and more widely. Despite the fears of many commentators, AI has not superseded humans in this area; on the con  trary, precisely because AI has required the support of data scientists, engineers, and programmers, the number\n",
      "of humans involved in the targeting process over the last decade has increased. Ironically, rather than eliminating people, AI-  enabled targeting may, therefore, multiply organisational prob lems in military headquarters, as a broader range of human operators have to develop new ways of collaborating with each other if they are to exploit AI s potential.\n",
      "\n",
      "\n",
      "\n",
      " Retrieved Chunk 4: reassure local allies and to deter potential opponents. The tour lasts six months, during which the deployed battlegroup normally performs one major exercise. Between 21 and 28 May 2021, a British armoured brigade conducted an exer  cise as part of their reassurance and deterrence rotation. The Microworld was employed in the headquarters of this armoured brigade. Route planning and geo graph i cal surveying are impor tant staff functions during the planning cycle. Commanders\n",
      "have to be aware of the best routes so that they can develop good plans. In the past, staff officers have conducted this work, by studying maps and assessing the viability of par tic u lar routes. Staff officers have identified a variety of factors such as road widths, choke points, bridges, inclines, and exposure to enemy observation and fire in order to determine the quality of a route. Route- planning is time- consuming and tir  ing work. It normally takes brigade staff officers three to four\n",
      "hours to do this analy sis for any operation. Eventually, the staff typically produce a coloured map of routes to highlight vari ous factors. On the military exercise in 2021, the Microworld was used to do route-  planning. It conducted the same operation in mere minutes. As one officer stated, It was a prophetic moment .19 The Microworld not only did complete route- analysis in a fraction of the usual time but was also more comprehensive\n",
      "\n",
      "\n",
      "\n",
      " Retrieved Chunk 5: 134 CHAPTER 8 suffered a disaster at the Sayano- Shushenskaya dam. Software on a malfunc  tioning computer, located some five hundred miles from the dam, sent a signal to start a turbine, which released a flood, killing seventy- five people and ruin  ing the other turbines.10 It seemed pos si ble that a malign actor could easily replicate this event by infecting a computer system with a virus. Israel has been at the forefront of cyberattacks of this type, using them against\n",
      "the nuclear facilities of hostile neighbouring states Syria and Iran. For instance, on 6 September 2007, in an action called Operation Orchard, Israeli aircraft bombed the Dayr ez- Zor nuclear reactor in northern Syria. Syrian air defence was blinded for the duration of the attack. It seems likely that the IDF s Unit 8200 had successfully infected the Syrian computer systems so that their air defences failed.11 In 2010, further evidence of an Israeli cyberattack became public. Israel had been\n",
      "concerned about the Natanz nuclear fa cil i ty in northern Iran for some time. The plant was producing enriched uranium as part of Iran s attempt to acquire a nuclear bomb. Israel considered the pos  sibility of another airstrike. However, the chances of collateral damage were considered too high. Consequently, Israel de cided on a cyberattack. The CIA and NSA became involved in the Natanz proj ect and what became known as the Stuxnet attack. The Stuxnet attack was complex and expensive; $300\n",
      "million was autho  rised for joint covert proj ects of which it was part. It took the Americans and Israelis many months to develop the malware. The Natanz fa cil i ty used SIMATIC Step 7 software on Microsoft Win dows. The Stuxnet attack exploited a generic code in Win dows. It seems to have been introduced into the Natanz system by a human agent who gave the infected media to an unwitting employee at the nuclear power plant. Once that person had uploaded the\n",
      "\n",
      "\n",
      "\n"
     ]
    }
   ],
   "execution_count": 17
  },
  {
   "metadata": {},
   "cell_type": "markdown",
   "source": "## 2. Augmentation",
   "id": "c27164fb8bd6c884"
  },
  {
   "metadata": {
    "ExecuteTime": {
     "end_time": "2025-07-24T10:39:41.006927Z",
     "start_time": "2025-07-24T10:39:41.002176Z"
    }
   },
   "cell_type": "code",
   "source": [
    "# taking the first five retrieved documents\n",
    "retrieved_context = retrieved_docs[0].page_content + retrieved_docs[1].page_content + retrieved_docs[2].page_content + retrieved_docs[3].page_content + retrieved_docs[4].page_content"
   ],
   "id": "e4ee669a21b3743",
   "outputs": [],
   "execution_count": 29
  },
  {
   "metadata": {
    "ExecuteTime": {
     "end_time": "2025-07-24T10:39:42.915880Z",
     "start_time": "2025-07-24T10:39:42.902038Z"
    }
   },
   "cell_type": "code",
   "source": [
    "# Creating the prompt\n",
    "augmented_prompt=f\"\"\"\n",
    "Given the context below answer the question.\n",
    "\n",
    "Question: {query}\n",
    "\n",
    "Context : {retrieved_context}\n",
    "\n",
    "Remember to answer only based on the context provided and not from any other source.\n",
    "\n",
    "If the question cannot be answered based on the provided context, say I don’t know.\n",
    "\n",
    "\"\"\"\n",
    "\n",
    "print(textwrap.fill(augmented_prompt,width=150))"
   ],
   "id": "62af95b6f755854b",
   "outputs": [
    {
     "name": "stdout",
     "output_type": "stream",
     "text": [
      " Given the context below answer the question.  Question: What is Operation Orchard?  Context : The Special Relationship 83 with tech experts on\n",
      "specific operational prob lems. In this chapter, I begin to illustrate these emergent webs of interconnection. Palantir In order to understand this\n",
      "relationship between the tech sector and the armed forces, we might wish to look at a number of tech companies. Over the last two  decades, the armed\n",
      "forces have worked closely with many tech companies, including Microsoft, Google, Amazon Web Services, Palantir, Anduril, Rebel  lion Defence, Adarga,\n",
      "Rhombus, and Helsing. Any one of these companies exemplifies this germinating relationship between tech and the military. How  ever, for clarity, it\n",
      "is useful to focus on one com pany: Palantir Technologies. Palantir is certainly not uncontroversial. Peter Thiel, who founded the com  pany and\n",
      "remains its chair, is an often divisive figure. The com pany was impli  cated in the Cambridge Analytica scandal exposed in 2018, and, in the defence\n",
      "sector, it is regarded as an opportunistic, monopolising enterprise. Yet it is one of the leading tech defence companies of the last decade.\n",
      "Consequently, it is a perspicuous example of wider pro cesses. In par tic u lar, it usefully reveals the distinctive utility of AI for the armed\n",
      "forces. It is notable that Palantir has not attempted to automate weapon systems, much less military operations. Rather, it has tried to develop AI\n",
      "programs capable of pro cessing data at speed and scale. It has helped the armed forces to organise and curate their data in order to improve their\n",
      "situational awareness and intelligence, expediting planning and targeting. In this way, it has fulfilled the strategic visions repeatedly articulated\n",
      "by Robert Work, governments, and the armed forces as discussed in chapter 4. Thiel founded Palantir in 2003. As noted in the previous chapter,\n",
      "following the 11 September 2001 attacks, Thiel wanted to realign a traditionally anti-  authoritarian, leftist Silicon Valley with US national\n",
      "security interests. Palantir was designed to contribute directly to US security by providing software sup  port to the Department of Defense. The\n",
      "concept of Palantir arose from Thiel s experiences at PayPal, which he founded with Max Levchin in 1996. From its inception, PayPal faced a serious\n",
      "challenge: fraud. In 2000, the com pany was losing more than $10 million a year to fraud. Since it pro cessed hundreds of thousands of transactions\n",
      "every minute, it could not review each one. Criminals took advantage of this. Consequently, Thiel sought to use AI to help security- check customers,\n",
      "confirming thousands of transac  tions instantly. Levchin assembled an expert group of mathematicians to study fraudulent transfers in detail.\n",
      "Eventually, they wrote an algorithm to identify and automatically cancel bogus transactions. However, the thieves quickly recognised how the algorithm\n",
      "worked, and they changed their tactics. While the fraudsters adaptive evasions fooled automatic detection algorithms, they106 CHAPTER 6 and detailed.\n",
      "It was able to highlight a route s vulnerabilities by illustrating the precise points on a route where the enemy could see friendly forces, directly\n",
      "or indirectly. The Spearhead had created a militarised version of Google Maps. The system provided a commander with route choices automatically, docu\n",
      "menting all the details and hazards on each route. In the course of the exercise, a very senior British officer observed the Microworld at work. When\n",
      "he saw the program working, he fell off his chair .20 He enthused that this program would have saved him hours if it had been available when he was a\n",
      "staff officer in the British Army s Third Division Headquarters. Overall, in the course of this exercise, the Microworld was effective, saving 11.5\n",
      "hours of staff time and producing 42 products. The products contained 81 per cent more information than traditional staff work and were 91 per cent\n",
      "higher quality.21 The Microworld is a modest innovation. It has not transformed command, and it has not revolutionised military decision- making. Its\n",
      "achievements are much more limited. It has automated one specific staff function: route planning. The Spearhead s Microworld does not make any\n",
      "decisions for the commander at all. Nevertheless, because it saves hours of labour, it liberates the staff to concentrate on more difficult analytical\n",
      "prob lems for the commander, where careful human judgement is required. Consequently, indirectly, the Microworld enables the staff to support the\n",
      "commander and to improve military decision-  making. It would be silly to exaggerate the capabilities of the Microworld or the successes of the\n",
      "Enhanced Command and Control Spearhead more generally. Indeed, one senior British Army officer was rather disappointed by the work precisely because\n",
      "it seemed so mundane. He believed that AI could and, per  haps, should produce much more exciting results. However, the Microworld evinces two impor\n",
      "tant facts about AI in relation to military decision- making. First, AI is eminently capable of supporting decision- making, but it cannot assume the\n",
      "role of a human commander. Second, AI can process data to gener  ate useful results, but it cannot really make a decision. It can help in the planning\n",
      "process, but it cannot write an actional plan entirely on its own. Torch and Delta MCOSM, the Microworld, IED heat maps, building- destruction\n",
      "algorithms, and BRAWLER perform very specific and narrowly defined planning func  tions. However, there are other AI- enabled planning software\n",
      "programs which provide more general command support: namely, digitised battlespace man  agement systems. These programs do not simply process specific\n",
      "data to help commanders make a decision; they supply a digital framework which collates and shares all the data in a recognised situational awareness\n",
      "picture, denoting the location of friendly forces and enemy forces. They facilitate the execution of operations and the coordination of forces in real\n",
      "time.AI and Planning 105 a variety of focused AI technology applications .16 Commercial off- the- shelf  services and AI agents supplied the basic\n",
      "framework for the Microworld. Com  mercial data and intelligence services played an impor tant role in the curation of the database itself; commercial\n",
      "intelligence services, in par tic u lar, were crucial. Vendors specialising in global military intelligence were selected to supply information on\n",
      "force postures, equipment, operations, and geospatial information.17 With offices worldwide, thousands of staff, and sizeable budgets,  those vendors\n",
      "had more capacity than the UK s Ministry of Defence did to collect intelligence; their information was also very accurate. In addition, the Staff\n",
      "Officers Handbook, a British Army planning manual, and other mili  tary sources were digitised to create an encyclopaedic dataset. As a result, the\n",
      "Spearhead was able to create an actionable operational dataset which included geospatial information, friendly forces locations, the enemy s\n",
      "locations, tac  tics, and battle management tools. The Microworld is impressive. However, the Spearhead s aims were mod  est. It did not want to\n",
      "automate command , which would have been an unre  alistic and undesirable goal. It wanted the Microworld to process data to help the commander make\n",
      "decisions: The purpose is not to use AI to complete all of the process of decision- making, but only to remove the repetitive tasks and enable\n",
      "informed decision- making for human users .18 The most successful application of the Spearhead s Microworld occurred on a multinational exercise.\n",
      "Since 2016, the British Army has deployed a mechanised battlegroup, under a brigade, into a European ally s territory to reassure local allies and to\n",
      "deter potential opponents. The tour lasts six months, during which the deployed battlegroup normally performs one major exercise. Between 21 and 28\n",
      "May 2021, a British armoured brigade conducted an exer  cise as part of their reassurance and deterrence rotation. The Microworld was employed in the\n",
      "headquarters of this armoured brigade. Route planning and geo graph i cal surveying are impor tant staff functions during the planning cycle.\n",
      "Commanders have to be aware of the best routes so that they can develop good plans. In the past, staff officers have conducted this work, by studying\n",
      "maps and assessing the viability of par tic u lar routes. Staff officers have identified a variety of factors such as road widths, choke points,\n",
      "bridges, inclines, and exposure to enemy observation and fire in order to determine the quality of a route. Route- planning is time- consuming and tir\n",
      "ing work. It normally takes brigade staff officers three to four hours to do this analy sis for any operation. Eventually, the staff typically produce\n",
      "a coloured map of routes to highlight vari ous factors. On the military exercise in 2021, the Microworld was used to do route-  planning. It conducted\n",
      "the same operation in mere minutes. As one officer stated, It was a prophetic moment .19 The Microworld not only did complete route- analysis in a\n",
      "fraction of the usual time but was also more comprehensiveThe Special Relationship 95 The architecture of commercial- defence relations has altered.\n",
      "Where for  merly the defence industry was locked into the armed forces at the apex of the defence hierarchy in the defence ministries tech companies\n",
      "now integrate directly into a privileged milieu, the Special Operations Forces. It is pos si ble to explore this Special Operations Forces tech\n",
      "partnership more closely by looking at specific examples from the last decade. Operation  ally, the situations which Special Operations Forces face\n",
      "have become more and more complex, with adversaries located in cluttered, contested urban areas.  These adversaries have become hard to identify, as\n",
      "their tactics and tradecraft have improved. At the same time, the proliferation of sensors has created an exponential rise in data. The Special\n",
      "Operations Forces recognise the impor  tance of data and have increasingly sought to use data to target their opponents. As one Special Operations\n",
      "Forces officer put it: Data is the engine. It is the locomotive of strategy .45 This officer wanted to draw on as many data sources as pos si ble,\n",
      "including open- source information, in order to increase the effec  tiveness, efficiency, and lethality of the Special Operations Forces. He aspired\n",
      "to turn this organisation [the Special Operations Forces] into Bellingcat with guns .46 By this, he meant that he wanted the Special Operations Forces\n",
      "to be a data- enabled organisation, enhanced by AI. The prob lem is that the Special Operations Forces have been in danger of drowning in data. They\n",
      "have too much intelligence to analyse and not enough intelligence operators. And they have been trying to pursue harder targets without an increase in\n",
      "personnel. The result is that they have missed opportu  nities. They have missed missions and targets because they have not been able to exploit their\n",
      "datasets.47 They have, therefore, tried to increase the amount of time dedicated to analy sis in order to improve targeting and to make the organ\n",
      "isation more effective and efficient. Consequently, some Special Operations Forces have tried to construct in- house tech teams, aiming to identify\n",
      "solutions not in months or years as is the norm with traditional arms manufacturers  but in days. They have then created software solutions to process\n",
      "data within three to four weeks.48 They have iterated at speed, perfecting their software through trial and error.49 For instance, one tech com pany\n",
      "developed software which allowed the Special Operations Forces to search interrogation reports not only for the phone numbers of a target, but even\n",
      "for phone numbers which might be used by that target. The Special Operations Forces have also been interested in facial recognition and natu ral\n",
      "language pro cessing systems which can detect in many languages. To exploit data and reduce the gap between opportunities and actual opera  tions, the\n",
      "Special Operations Forces have created multidisciplinary teams. They are mostly military; they typically consist of Special Operations Forces\n",
      "personnel, signals- intelligence specialists, and military intelligence opera  tives. These multidisciplinary teams have included civilians too: The\n",
      "Special98 CHAPTER 5 They have focused on the technology to which they impute often unfea  sible powers ignoring the organisational transformations\n",
      "which have made and will make the military application of AI pos si ble. Blinded by the remark  able technical powers of AI, many have overlooked this\n",
      "human collaboration between the tech sector and Special Operations Forces. The collaboration is on a small scale, and it is often mundane. It is\n",
      "always discreet, often covert, and sometimes classified. The Special Operations Forces are but one small node in the armed forces. Yet the emergent\n",
      "connection between the tech sector and the Special Opera  tions Forces is a significant development. In the defence sector, the Special Operations\n",
      "Forces have become the supersellers. They are the market leaders in defence, the ones whom other forces tend to follow and imitate. Through their\n",
      "advocacy for and application of AI, it is likely that the Special Operations Forces will accelerate the take-up of AI in the conventional forces. The\n",
      "link between the tech sector and Special Operations Forces is still nascent. Yet it may be as impor tant po liti cally, eco nom ically, and militarily\n",
      "as the birth of the military- industrial complex in the 1950s. It seems to signify the beginnings of a new military- tech complex.  Remember to answer\n",
      "only based on the context provided and not from any other source.  If the question cannot be answered based on the provided context, say I don’t know.\n"
     ]
    }
   ],
   "execution_count": 30
  },
  {
   "metadata": {
    "ExecuteTime": {
     "end_time": "2025-07-24T10:39:45.075703Z",
     "start_time": "2025-07-24T10:39:45.070191Z"
    }
   },
   "cell_type": "code",
   "source": [
    "from  langchain_openai import ChatOpenAI\n",
    "\n",
    "chat_model = ChatOpenAI(\n",
    "    openai_api_key=\"not-needed\",\n",
    "    openai_api_base=\"http://localhost:1234/v1\",\n",
    "    model_name=\"hermes-3-llama-3.2-3b\",\n",
    "    temperature=0,\n",
    "    max_tokens=None,\n",
    ")"
   ],
   "id": "c341e14a3f7ba1d4",
   "outputs": [],
   "execution_count": 31
  },
  {
   "metadata": {
    "ExecuteTime": {
     "end_time": "2025-07-24T10:39:47.147871Z",
     "start_time": "2025-07-24T10:39:47.143636Z"
    }
   },
   "cell_type": "code",
   "source": "messages=[(\"human\",augmented_prompt)]\n",
   "id": "80b076878558107d",
   "outputs": [],
   "execution_count": 32
  },
  {
   "metadata": {
    "ExecuteTime": {
     "end_time": "2025-07-24T10:40:11.574147Z",
     "start_time": "2025-07-24T10:39:49.017286Z"
    }
   },
   "cell_type": "code",
   "source": "ai_msg = chat_model.invoke(messages)\n",
   "id": "c7cca26346668011",
   "outputs": [],
   "execution_count": 33
  },
  {
   "metadata": {
    "ExecuteTime": {
     "end_time": "2025-07-24T10:40:14.573129Z",
     "start_time": "2025-07-24T10:40:14.568406Z"
    }
   },
   "cell_type": "code",
   "source": [
    "# Extract the answer from the response object\n",
    "answer=ai_msg.content\n",
    "\n",
    "print(answer)"
   ],
   "id": "e7cec792c89f92ab",
   "outputs": [
    {
     "name": "stdout",
     "output_type": "stream",
     "text": [
      "Operation Orchard is not mentioned in the given context. The context discusses various aspects of the relationship between technology companies and the military, including Palantir Technologies, but does not specifically mention an operation named \"Orchard\".\n"
     ]
    }
   ],
   "execution_count": 34
  },
  {
   "metadata": {
    "ExecuteTime": {
     "end_time": "2025-07-24T11:42:34.607887Z",
     "start_time": "2025-07-24T10:59:37.800400Z"
    }
   },
   "cell_type": "code",
   "source": [
    "from sentence_transformers import SentenceTransformer\n",
    "\n",
    "model = SentenceTransformer(\"BAAI/bge-base-en-v1.5\")"
   ],
   "id": "84fe73686b220a85",
   "outputs": [
    {
     "data": {
      "text/plain": [
       "modules.json:   0%|          | 0.00/349 [00:00<?, ?B/s]"
      ],
      "application/vnd.jupyter.widget-view+json": {
       "version_major": 2,
       "version_minor": 0,
       "model_id": "f1c85519302a4d27be9eda9e65d79646"
      }
     },
     "metadata": {},
     "output_type": "display_data"
    },
    {
     "data": {
      "text/plain": [
       "config_sentence_transformers.json:   0%|          | 0.00/124 [00:00<?, ?B/s]"
      ],
      "application/vnd.jupyter.widget-view+json": {
       "version_major": 2,
       "version_minor": 0,
       "model_id": "01815fe5d6554595bf7a88bc1f526b98"
      }
     },
     "metadata": {},
     "output_type": "display_data"
    },
    {
     "data": {
      "text/plain": [
       "README.md: 0.00B [00:00, ?B/s]"
      ],
      "application/vnd.jupyter.widget-view+json": {
       "version_major": 2,
       "version_minor": 0,
       "model_id": "39335a217da7464ea8df72692a5b5c38"
      }
     },
     "metadata": {},
     "output_type": "display_data"
    },
    {
     "data": {
      "text/plain": [
       "sentence_bert_config.json:   0%|          | 0.00/52.0 [00:00<?, ?B/s]"
      ],
      "application/vnd.jupyter.widget-view+json": {
       "version_major": 2,
       "version_minor": 0,
       "model_id": "a5fba11d1b974e399efb7e3378ce7c00"
      }
     },
     "metadata": {},
     "output_type": "display_data"
    },
    {
     "data": {
      "text/plain": [
       "config.json:   0%|          | 0.00/777 [00:00<?, ?B/s]"
      ],
      "application/vnd.jupyter.widget-view+json": {
       "version_major": 2,
       "version_minor": 0,
       "model_id": "3d8143639f5b424aacec4a33913514c2"
      }
     },
     "metadata": {},
     "output_type": "display_data"
    },
    {
     "data": {
      "text/plain": [
       "model.safetensors:   0%|          | 0.00/438M [00:00<?, ?B/s]"
      ],
      "application/vnd.jupyter.widget-view+json": {
       "version_major": 2,
       "version_minor": 0,
       "model_id": "6cf63740b3d74b218aea7163374dda17"
      }
     },
     "metadata": {},
     "output_type": "display_data"
    },
    {
     "data": {
      "text/plain": [
       "tokenizer_config.json:   0%|          | 0.00/366 [00:00<?, ?B/s]"
      ],
      "application/vnd.jupyter.widget-view+json": {
       "version_major": 2,
       "version_minor": 0,
       "model_id": "6b36b9e1e56c4b75b36410e1429137f7"
      }
     },
     "metadata": {},
     "output_type": "display_data"
    },
    {
     "data": {
      "text/plain": [
       "vocab.txt: 0.00B [00:00, ?B/s]"
      ],
      "application/vnd.jupyter.widget-view+json": {
       "version_major": 2,
       "version_minor": 0,
       "model_id": "1142a709230c4ca2bb6bfd7a12f8f8df"
      }
     },
     "metadata": {},
     "output_type": "display_data"
    },
    {
     "data": {
      "text/plain": [
       "tokenizer.json: 0.00B [00:00, ?B/s]"
      ],
      "application/vnd.jupyter.widget-view+json": {
       "version_major": 2,
       "version_minor": 0,
       "model_id": "caec4eafce184561a2233752a881ec06"
      }
     },
     "metadata": {},
     "output_type": "display_data"
    },
    {
     "data": {
      "text/plain": [
       "special_tokens_map.json:   0%|          | 0.00/125 [00:00<?, ?B/s]"
      ],
      "application/vnd.jupyter.widget-view+json": {
       "version_major": 2,
       "version_minor": 0,
       "model_id": "982845fbdde346f2ac6933b08325f37c"
      }
     },
     "metadata": {},
     "output_type": "display_data"
    },
    {
     "data": {
      "text/plain": [
       "config.json:   0%|          | 0.00/190 [00:00<?, ?B/s]"
      ],
      "application/vnd.jupyter.widget-view+json": {
       "version_major": 2,
       "version_minor": 0,
       "model_id": "e1dd395f1a454e17934251943486bf4b"
      }
     },
     "metadata": {},
     "output_type": "display_data"
    }
   ],
   "execution_count": 1
  },
  {
   "metadata": {
    "ExecuteTime": {
     "end_time": "2025-07-24T11:42:54.380616Z",
     "start_time": "2025-07-24T11:42:46.289278Z"
    }
   },
   "cell_type": "code",
   "source": "",
   "id": "3535b95cd41db8bf",
   "outputs": [],
   "execution_count": 2
  },
  {
   "metadata": {},
   "cell_type": "code",
   "outputs": [],
   "execution_count": null,
   "source": "",
   "id": "54942daa54684446"
  }
 ],
 "metadata": {
  "kernelspec": {
   "display_name": "Python 3",
   "language": "python",
   "name": "python3"
  },
  "language_info": {
   "codemirror_mode": {
    "name": "ipython",
    "version": 2
   },
   "file_extension": ".py",
   "mimetype": "text/x-python",
   "name": "python",
   "nbconvert_exporter": "python",
   "pygments_lexer": "ipython2",
   "version": "2.7.6"
  }
 },
 "nbformat": 4,
 "nbformat_minor": 5
}
