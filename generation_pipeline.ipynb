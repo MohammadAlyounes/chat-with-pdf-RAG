{
 "cells": [
  {
   "metadata": {},
   "cell_type": "markdown",
   "source": "## 1. Load the vector index",
   "id": "3d37b7bdd0d30d08"
  },
  {
   "cell_type": "code",
   "id": "initial_id",
   "metadata": {
    "collapsed": true,
    "ExecuteTime": {
     "end_time": "2025-07-24T09:55:17.914642Z",
     "start_time": "2025-07-24T09:55:14.565519Z"
    }
   },
   "source": [
    "import faiss\n",
    "from langchain_community.vectorstores import FAISS\n",
    "from langchain_huggingface import HuggingFaceEmbeddings\n",
    "\n",
    "embeddings = HuggingFaceEmbeddings(model_name=\"sentence-transformers/all-MiniLM-L6-v2\")\n",
    "\n",
    "vector_store = FAISS.load_local(folder_path=\"./data_embeddings\",index_name=\"CWC_index\", embeddings=embeddings,\n",
    "                                allow_dangerous_deserialization=True)"
   ],
   "outputs": [],
   "execution_count": 5
  },
  {
   "metadata": {
    "ExecuteTime": {
     "end_time": "2025-07-24T09:57:41.865126Z",
     "start_time": "2025-07-24T09:57:41.833551Z"
    }
   },
   "cell_type": "code",
   "source": [
    "# Check the retrival function\n",
    "\n",
    "import textwrap\n",
    "\n",
    "# Define the query\n",
    "query = \"Who developed the AlphaFold\"\n",
    "\n",
    "# Perform similarity search\n",
    "retrieved_docs = vector_store.similarity_search(query, k=2)  # Get top 2 relevant chunks\n",
    "\n",
    "for i, doc in enumerate(retrieved_docs):\n",
    "    print(textwrap.fill(f\"\\nRetrieved Chunk {i+1}:\\n{doc.page_content}\",width=100))\n",
    "    print(\"\\n\\n\")"
   ],
   "id": "354bafa6d28c92d0",
   "outputs": [
    {
     "name": "stdout",
     "output_type": "stream",
     "text": [
      " Retrieved Chunk 1: Robot Wars 3 soon affect the lives of billions. Since 1972, biologists have been\n",
      "working on the prob lem of protein structure: Determining the crumpled shapes of proteins based on\n",
      "their sequences of constituent amino acids has been a per sis tent prob  lem for decades in biology.\n",
      "Some of these amino acids are attracted to others, some are repelled by water, and the chains form\n",
      "intricate shapes that are hard to accurately determine .11 In 2020, DeepMind announced that\n",
      "AlphaFold, a program created to identify new chemicals, had developed a method of map  ping the\n",
      "structure of folded proteins. By the middle of 2021, the program had mapped 98.5 per cent of the\n",
      "proteins in the human body. AlphaFold had solved the prob lem of protein folding in just eighteen\n",
      "months.12 AI programs now routinely read scans for cancer more accurately than doctors do.13 AI may\n",
      "have even more radical medical uses. One of the pressing needs of modern medicine is to develop new\n",
      "drugs to overcome antibiotic-  resistant bacteria. The Broad Institute at MIT and Harvard, led by Dr\n",
      "Felix Wong, has used AI to make major pro gress in this area.14 As Jeremy Hsu has described, Wong s\n",
      "team tested the effects of more than 39,000 compounds on Staphylococcus aureus and three types of\n",
      "human cells from the liver, skel  etal muscle and lungs. The results became the training data for AI\n",
      "models to learn about the patterns in each compound s chemical atoms and bonds. That allowed the AIs\n",
      "to predict both the antibacterial activity of such compounds and their potential toxicity to human\n",
      "cells. The trained AI models then anal  ysed 12 million compounds through computer simulations to\n",
      "find 3646 com  pounds with ideal drug- like properties .15 Wong explained the significance of AI to\n",
      "the research: Our [AI] models tell us not only which compounds have selective antibiotic activity,\n",
      "but also why . Because AI can process huge quanti  ties of data, plotting thousands of variables, it\n",
      "is able to identify patterns which are quite undetectable to human researchers. Humans simply cannot\n",
      "hold all  those variables in their minds. Consequently, AI programs have detected new molecular\n",
      "qualities, identifying relations between a molecule s structure and its antibiotic capacity that\n",
      "humans had neither perceived nor defined. Algorithms have been employed with increasing success in\n",
      "many other fields, including oceanography, in which they have been trained to distinguish between\n",
      "sub  marines, mines, and sea- life better than humans can.16 AI has also become integral to business\n",
      "and commerce. It has been essential to the competitive advantage of the largest companies.17 The\n",
      "rise of Amazon is substantially due to data and AI. Amazon s algorithms have automated buying and\n",
      "selling, and, as a result, they have been able to predict consumers tastes on the basis of the\n",
      "things that other customers, with similar data profiles, have bought.18 Walmart has also\n",
      "successfully harnessed the predictive power of AI. Walmart s algorithms noted that when a hurricane\n",
      "was announced, consumers in the American South stocked up on Pop- Tarts (likely because Pop- Tarts\n",
      "are easy to prepare and are high in calories). As Linda Dillman, Walmart s chief\n",
      "\n",
      "\n",
      "\n",
      " Retrieved Chunk 2: 154 CHAPTER 9 constituted it and which sustains it. It omits the weeks of work\n",
      "by teams of computer scientists, data engineers, and programmers in developing, testing, training,\n",
      "and refining an algorithm or a model. The result is that AI has often been misrepresented. The\n",
      "successes of AI have been imputed to its software programming, algorithms, and neural networks. It\n",
      "is presumed that because each of these entities has a real existence and function, so that AI can\n",
      "process data in de pen dently of immediate human intervention, AI itself is autonomous. Like Marx s\n",
      "commodity, this interpretation systemati  cally ignores the human capital which is vital to the\n",
      "development, maintenance, and refinement of AIs. Yet this human labour is indispensable, prodigious,\n",
      "and constant. It is pos si ble to see it whenever AI is at work. Indeed, human agency is apparent\n",
      "even when AI is apparently at its most power ful. In chapter 1, I discussed AlphaGo as one of the\n",
      "most celebrated successes of AI in the last decade. When AlphaGo defeated Lee Sedol at the game of\n",
      "Go in March 2016, it was widely regarded as a seminal moment in the devel  opment of AI, one that\n",
      "seemed to presage the rise of genuine autonomous artificial intelligence. Yet a closer look at the\n",
      "development of AlphaGo and that game reveals the constitutive role of human expertise at every\n",
      "point. For instance, when AlphaGo played against the European champion, Fan Hui, in 2015, the match\n",
      "exposed weaknesses in the software which the DeepMind engineers resolved only by locking down the\n",
      "code.13 Indeed, when Sedol beat AlphaGo in game 3, DeepMind CEO Demis Hassabis and his chief program\n",
      "mer announced they would need to go back and analyze why [AlphaGo] had made such a lousy move .14\n",
      "Hassabis and his colleagues then refined AlphaGo s program. The eventual victory of AlphaGo\n",
      "demonstrated the human contri  bution even more. Notably, when Sedol was defeated in the final game,\n",
      "the DeepMind engineers celebrated. In their box above the arena where the match was held, Hassabis\n",
      "punched the air. Team members hugged and high fived .15 The team was unified in a moment of ecstasy.\n",
      "The scene reveals something very impor tant: AlphaGo did not defeat Sedol on its own. Sedol was\n",
      "defeated by a team of brilliant computer scientists, data engineers, and software engi  neers who\n",
      "had been working together on this proj ect for years. They pro  grammed AlphaGo and continually\n",
      "refined AlphaGo s software in the course of its competitions until it was good enough to win. It is\n",
      "wrong to claim that AlphaGo won autonomously. Rather, the team at DeepMind used AlphaGo to defeat\n",
      "Sedol. A human team of engineers, programmers, and scientists used software a machine to help them\n",
      "beat another human. AI helped a team of humans who were not adept at Go to beat a champion. Their\n",
      "labour in this  process was invisible when AlphaGo eventually triumphed. That work took place months\n",
      "and years before, in Cambridge and at Google s headquarters in Silicon Valley, as the team\n",
      "collaborated on the software discussing, testing, and affirming how to improve the system.\n",
      "\n",
      "\n",
      "\n"
     ]
    }
   ],
   "execution_count": 8
  },
  {
   "metadata": {},
   "cell_type": "code",
   "outputs": [],
   "execution_count": null,
   "source": "",
   "id": "e4ee669a21b3743"
  }
 ],
 "metadata": {
  "kernelspec": {
   "display_name": "Python 3",
   "language": "python",
   "name": "python3"
  },
  "language_info": {
   "codemirror_mode": {
    "name": "ipython",
    "version": 2
   },
   "file_extension": ".py",
   "mimetype": "text/x-python",
   "name": "python",
   "nbconvert_exporter": "python",
   "pygments_lexer": "ipython2",
   "version": "2.7.6"
  }
 },
 "nbformat": 4,
 "nbformat_minor": 5
}
