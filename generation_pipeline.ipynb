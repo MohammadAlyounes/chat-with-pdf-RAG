{
 "cells": [
  {
   "metadata": {},
   "cell_type": "markdown",
   "source": "## 1. Load data from Vector database",
   "id": "3d37b7bdd0d30d08"
  },
  {
   "cell_type": "code",
   "id": "initial_id",
   "metadata": {
    "collapsed": true,
    "ExecuteTime": {
     "end_time": "2025-07-26T02:46:02.425258Z",
     "start_time": "2025-07-26T02:45:33.681623Z"
    }
   },
   "source": [
    "from langchain_community.vectorstores import FAISS\n",
    "from langchain_huggingface import HuggingFaceEmbeddings\n",
    "\n",
    "embeddings = HuggingFaceEmbeddings(model_name=\"BAAI/bge-base-en-v1.5\")\n",
    "\n",
    "vector_store = FAISS.load_local(folder_path=\"./data\",index_name=\"BDF_index\", embeddings=embeddings,\n",
    "                                allow_dangerous_deserialization=True)"
   ],
   "outputs": [],
   "execution_count": 1
  },
  {
   "metadata": {},
   "cell_type": "markdown",
   "source": "## 2. Retrieval",
   "id": "e401ac0f00d07b90"
  },
  {
   "metadata": {
    "ExecuteTime": {
     "end_time": "2025-07-26T02:48:51.938734Z",
     "start_time": "2025-07-26T02:48:51.844349Z"
    }
   },
   "cell_type": "code",
   "source": [
    "# Check the retrival functionility\n",
    "\n",
    "import textwrap\n",
    "\n",
    "# Define the query\n",
    "query = \"How much data was produced by the assault on an al-Qaeda safe house in Afghanistan in 2017? Give me any realistic approximation response.\"\n",
    "\n",
    "# Perform similarity search\n",
    "retrieved_docs = vector_store.similarity_search(query, k=2)  # Get top 2 relevant chunks\n",
    "\n",
    "for i, doc in enumerate(retrieved_docs):\n",
    "    print(textwrap.fill(f\"\\nRetrieved Chunk {i+1}:\\n{doc.page_content}\",width=500))\n",
    "    print(\"\\n\\n\")"
   ],
   "id": "354bafa6d28c92d0",
   "outputs": [
    {
     "name": "stdout",
     "output_type": "stream",
     "text": [
      " Retrieved Chunk 1: 126 CHAPTER 7 For decades Israel has been monitoring the West Bank and Gaza, gathering intelligence and information on terrorist organisations, political groups, and civilians. As one Israeli informant noted: This is the thing about the IDF. They  don t need information on the entire world. It is very specific to the West Bank and Gaza. The datasets for these areas, the IDF is all very advanced in. It is specialised in its expertise, but it is geo graph i cally specialised.\n",
      "The UK or US are worldwide. We focus on fifteen cities .45 Many deplore the political situation in Israel; they describe the West Bank as a de facto apartheid state. However, whatever the political situation, the IDF provide a perspicuous example of how AI has been employed for targeting in urbanised operations. In the last fifteen years, the IDF have sought to exploit data as a way of tracing and targeting Palestinian militants and terrorists. No matter how many countermea sures they employ,\n",
      "Palestinian operatives leave a digital signature in cyberspace. In addition to traditional methods of intelligence collection, the West Bank and the Gaza Strip are now saturated with Israeli sensors, including satellites, radar, drones, and cameras. In addition, open sources have become a means of collecting rich intelligence, but the amounts of data they may involve are vast. IDF officers emphasise the prob lem: the data is endless, reaching into petabytes (one million gigabytes) in some areas\n",
      ".46 The data revolution has led to massive amounts of operational data being collected from cameras, microphones, networks, information systems, and devices. The human factor is no longer sufficient, as soldiers cannot physically keep up with the amount of incoming data .47 The IDF have a data prob lem. Consequently, in the last decade, the IDF have created a number of specialist units to process data; AI has become cru  cial. I have already mentioned Unit 8200, but Unit 9900, J6/C4I Director\n",
      "\n",
      "\n",
      "\n",
      " Retrieved Chunk 2: primarily used to process data across a range of functions to help planning, intelligence, situational awareness, cooperation, and military decision- making. It will support military operations, not automate them. JADC2 is a Pentagon- level, joint, and cross- domain effort. Notably, the  services have been developing their own doctrines about AI too. The US Air Force has been at the forefront of this thinking. It recognises that data has become essential to its operations.\n",
      "However, because its datasets are so huge, they are exceedingly difficult to mine. It is very easy for a commander to become overwhelmed by data and, therefore, for a force to miss impor tant data points. The US Air Force has had considerable experience of this prob lem of data overload. In 2017, an assault on an al Qaeda safe house in Afghanistan produced 40 terabytes of data. If just a quarter of that data were in the form of videos, it would take a person 208 days, working twenty- four hours\n",
      "a day, to review it all. However, with AI preparing and triaging raw collected data, human analysts would have more time to evaluate the material and apply their expertise . In the CIA, for instance, AI is already saving all- source intelligence analysts forty-  five days a year.21 It is simply impossible for the air force to operate effectively without using AI. Consequently, on 20 September 2021, Secretary of the Air Force Frank Kendall announced that the air force had deployed AI algorithms\n",
      "\n",
      "\n",
      "\n"
     ]
    }
   ],
   "execution_count": 3
  },
  {
   "metadata": {},
   "cell_type": "markdown",
   "source": "## 2. Augmentation",
   "id": "c27164fb8bd6c884"
  },
  {
   "metadata": {
    "ExecuteTime": {
     "end_time": "2025-07-26T02:49:26.596346Z",
     "start_time": "2025-07-26T02:49:26.591966Z"
    }
   },
   "cell_type": "code",
   "source": [
    "# taking the first five retrieved documents\n",
    "retrieved_context = retrieved_docs[0].page_content + retrieved_docs[1].page_content"
   ],
   "id": "e4ee669a21b3743",
   "outputs": [],
   "execution_count": 4
  },
  {
   "metadata": {
    "ExecuteTime": {
     "end_time": "2025-07-26T02:49:30.518861Z",
     "start_time": "2025-07-26T02:49:30.510071Z"
    }
   },
   "cell_type": "code",
   "source": [
    "# Creating the prompt\n",
    "augmented_prompt=f\"\"\"\n",
    "Answer only based on the following context.\n",
    "Question: {query}\n",
    "Context : {retrieved_context}\n",
    "\"\"\"\n",
    "\n",
    "print(textwrap.fill(augmented_prompt,width=150))"
   ],
   "id": "62af95b6f755854b",
   "outputs": [
    {
     "name": "stdout",
     "output_type": "stream",
     "text": [
      " Answer only based on the following context. Question: How much data was produced by the assault on an al-Qaeda safe house in Afghanistan in 2017?\n",
      "Give me any realistic approximation response. Context : 126 CHAPTER 7 For decades Israel has been monitoring the West Bank and Gaza, gathering\n",
      "intelligence and information on terrorist organisations, political groups, and civilians. As one Israeli informant noted: This is the thing about the\n",
      "IDF. They  don t need information on the entire world. It is very specific to the West Bank and Gaza. The datasets for these areas, the IDF is all\n",
      "very advanced in. It is specialised in its expertise, but it is geo graph i cally specialised. The UK or US are worldwide. We focus on fifteen cities\n",
      ".45 Many deplore the political situation in Israel; they describe the West Bank as a de facto apartheid state. However, whatever the political\n",
      "situation, the IDF provide a perspicuous example of how AI has been employed for targeting in urbanised operations. In the last fifteen years, the IDF\n",
      "have sought to exploit data as a way of tracing and targeting Palestinian militants and terrorists. No matter how many countermea sures they employ,\n",
      "Palestinian operatives leave a digital signature in cyberspace. In addition to traditional methods of intelligence collection, the West Bank and the\n",
      "Gaza Strip are now saturated with Israeli sensors, including satellites, radar, drones, and cameras. In addition, open sources have become a means of\n",
      "collecting rich intelligence, but the amounts of data they may involve are vast. IDF officers emphasise the prob lem: the data is endless, reaching\n",
      "into petabytes (one million gigabytes) in some areas .46 The data revolution has led to massive amounts of operational data being collected from\n",
      "cameras, microphones, networks, information systems, and devices. The human factor is no longer sufficient, as soldiers cannot physically keep up with\n",
      "the amount of incoming data .47 The IDF have a data prob lem. Consequently, in the last decade, the IDF have created a number of specialist units to\n",
      "process data; AI has become cru  cial. I have already mentioned Unit 8200, but Unit 9900, J6/C4I Directorprimarily used to process data across a range\n",
      "of functions to help planning, intelligence, situational awareness, cooperation, and military decision- making. It will support military operations,\n",
      "not automate them. JADC2 is a Pentagon- level, joint, and cross- domain effort. Notably, the  services have been developing their own doctrines about\n",
      "AI too. The US Air Force has been at the forefront of this thinking. It recognises that data has become essential to its operations. However, because\n",
      "its datasets are so huge, they are exceedingly difficult to mine. It is very easy for a commander to become overwhelmed by data and, therefore, for a\n",
      "force to miss impor tant data points. The US Air Force has had considerable experience of this prob lem of data overload. In 2017, an assault on an al\n",
      "Qaeda safe house in Afghanistan produced 40 terabytes of data. If just a quarter of that data were in the form of videos, it would take a person 208\n",
      "days, working twenty- four hours a day, to review it all. However, with AI preparing and triaging raw collected data, human analysts would have more\n",
      "time to evaluate the material and apply their expertise . In the CIA, for instance, AI is already saving all- source intelligence analysts forty-\n",
      "five days a year.21 It is simply impossible for the air force to operate effectively without using AI. Consequently, on 20 September 2021, Secretary\n",
      "of the Air Force Frank Kendall announced that the air force had deployed AI algorithms\n"
     ]
    }
   ],
   "execution_count": 5
  },
  {
   "metadata": {
    "ExecuteTime": {
     "end_time": "2025-07-26T02:49:39.129976Z",
     "start_time": "2025-07-26T02:49:39.126061Z"
    }
   },
   "cell_type": "code",
   "source": "messages=[(\"human\",augmented_prompt)]",
   "id": "4ba631e0d451a912",
   "outputs": [],
   "execution_count": 6
  },
  {
   "metadata": {},
   "cell_type": "markdown",
   "source": "##  3. Generation",
   "id": "1b9a3737b7760064"
  },
  {
   "metadata": {
    "ExecuteTime": {
     "end_time": "2025-07-26T02:52:59.241698Z",
     "start_time": "2025-07-26T02:52:58.223077Z"
    }
   },
   "cell_type": "code",
   "source": [
    "from langchain.chat_models import ChatOpenAI\n",
    "\n",
    "# Load and call a local LLM\n",
    "llm = ChatOpenAI(\n",
    "    base_url=\"http://localhost:1234/v1\",\n",
    "    api_key=\"no-key-needed\",  #\n",
    "    model=\"meta-llama-3.1-8b-instruct\",  # Local LLM name\n",
    ")"
   ],
   "id": "ad192160cc8a3239",
   "outputs": [],
   "execution_count": 9
  },
  {
   "metadata": {
    "ExecuteTime": {
     "end_time": "2025-07-26T02:53:22.723419Z",
     "start_time": "2025-07-26T02:53:00.634053Z"
    }
   },
   "cell_type": "code",
   "source": "ai_msg = llm.invoke(messages)",
   "id": "fd96e2717e7f8076",
   "outputs": [],
   "execution_count": 10
  },
  {
   "metadata": {
    "ExecuteTime": {
     "end_time": "2025-07-26T03:13:34.993440Z",
     "start_time": "2025-07-26T03:13:34.985985Z"
    }
   },
   "cell_type": "code",
   "source": [
    "# Extract the answer from the response object\n",
    "answer=ai_msg.content\n",
    "\n",
    "print(answer)"
   ],
   "id": "53bb0aef7ed49503",
   "outputs": [
    {
     "name": "stdout",
     "output_type": "stream",
     "text": [
      "Approximately 40 terabytes of data were produced by the assault on an al-Qaeda safe house in Afghanistan in 2017.\n"
     ]
    }
   ],
   "execution_count": 27
  },
  {
   "metadata": {
    "ExecuteTime": {
     "end_time": "2025-07-26T02:59:51.421328Z",
     "start_time": "2025-07-26T02:59:51.416611Z"
    }
   },
   "cell_type": "code",
   "source": [
    "# Try another question about the book itself (not fact or info as a previous example)\n",
    "\n",
    "query_2 = \"Do you think robot weapons and drones will replace the human in the military area? \""
   ],
   "id": "1b99ac4affcc04ba",
   "outputs": [],
   "execution_count": 14
  },
  {
   "metadata": {
    "ExecuteTime": {
     "end_time": "2025-07-26T02:59:53.093997Z",
     "start_time": "2025-07-26T02:59:53.017601Z"
    }
   },
   "cell_type": "code",
   "source": [
    "# Perform similarity search\n",
    "retrieved_docs_2 = vector_store.similarity_search(query_2, k=3)  # Get top 3 relevant chunks\n",
    "\n",
    "for i, doc in enumerate(retrieved_docs_2):\n",
    "    print(textwrap.fill(f\"\\nRetrieved Chunk {i+1}:\\n{doc.page_content}\",width=500))\n",
    "    print(\"\\n\\n\")"
   ],
   "id": "2ab6a4b2fa2f1618",
   "outputs": [
    {
     "name": "stdout",
     "output_type": "stream",
     "text": [
      " Retrieved Chunk 1: only the current trend towards attritional and positional warfare. In the next  decade, warfare is not going to fulfil the fantasies of science- fiction writers. Cyborgs will not take over. Supercomputers and killer robots and drones will not replace humans. Nevertheless, it is imperative that no one be under any illusion. The development of AI and its accompanying military- tech complex  will change the armed forces, the way they fight, and their relations to the state and\n",
      "society. We are on the edge of a historic reformation of military affairs.\n",
      "\n",
      "\n",
      "\n",
      " Retrieved Chunk 2: and causing soldiers to flee. Since then, the flames of war have become deadlier. Could there ever be another force so productive and perilous, one so essentially defined by the exponential growth of its core components? Welcome to the age of artificial intelligence.50 For Buchanan and Imbrie, AI is the equivalent of ancient Greek fire or the gunpowder weapons of late medieval Europe. AI- automated weapons will magnify the destructive power of weapons. Buchanan and Imbrie\n",
      "have sug  gested that with the help of AI, missiles would fly to an area of concentrated  enemy forces and hover. Each missile would release smaller munitions, and each of these would select and attack an enemy target .51 In the last two decades, David Hambling has established himself as a leading expert on drones and remotely controlled systems. Like Buchanan and Imbrie, he has claimed that military automation is approaching. Autonomous drone swarms, in par tic u lar, will be revolutionary:52 A\n",
      "swarm of ten thousand small drones could level a town [. . .] A small perching drone could deliver multiple incendiaries the size of bats [. . .] Acting together drones might bring down a bridge or skyscraper, but they could do more than that .53\n",
      "\n",
      "\n",
      "\n",
      " Retrieved Chunk 3: drone in Libya in March 2020. Russell concluded that unless governments acted to regulate the military application of AI, there are eight billion people wondering why you cannot give them protection against being hunted down and killed by robots .45 Eric Schmidt has, apart from in his work with Kissinger, articulated similar concerns about lethal autonomous weapons. He takes an entirely dif fer ent  political and ethical stance to Hinton and Russell, believing that the US\n",
      "must invest in AI in order to retain its supremacy and to protect democracy and freedom. Yet he, too, sees the cataclysmic military potential of AI: Eventually, autonomous weaponized drones not just unmanned aerial vehicles but also ground- based ones will replace soldiers and manned artillery altogether. Imagine an autonomous submarine that could quickly move supplies into contested waters or an autonomous truck that could find the optimal route to carry small missile launchers across rough\n",
      "terrain. Swarms of drones, networked and coordinated by AI, could overwhelm tank and infantry formations in the field.46 Warfare will be automated. Drones and robots, controlled by algorithms, will dominate the battles of the future.\n",
      "\n",
      "\n",
      "\n"
     ]
    }
   ],
   "execution_count": 15
  },
  {
   "metadata": {
    "ExecuteTime": {
     "end_time": "2025-07-26T03:02:53.196867Z",
     "start_time": "2025-07-26T03:02:53.188880Z"
    }
   },
   "cell_type": "code",
   "source": [
    "# Creating the prompt\n",
    "retrieved_context_2 = retrieved_docs_2[0].page_content + retrieved_docs_2[1].page_content + retrieved_docs_2[2].page_content\n",
    "\n",
    "augmented_prompt_2=f\"\"\"\n",
    "Answer only based on the following context.\n",
    "Question: {query_2}\n",
    "Context : {retrieved_context_2}\n",
    "\"\"\"\n",
    "\n",
    "print(textwrap.fill(augmented_prompt,width=150))"
   ],
   "id": "bc6cb3d10a4690f5",
   "outputs": [
    {
     "name": "stdout",
     "output_type": "stream",
     "text": [
      " Answer only based on the following context. Question: How much data was produced by the assault on an al-Qaeda safe house in Afghanistan in 2017?\n",
      "Give me any realistic approximation response. Context : 126 CHAPTER 7 For decades Israel has been monitoring the West Bank and Gaza, gathering\n",
      "intelligence and information on terrorist organisations, political groups, and civilians. As one Israeli informant noted: This is the thing about the\n",
      "IDF. They  don t need information on the entire world. It is very specific to the West Bank and Gaza. The datasets for these areas, the IDF is all\n",
      "very advanced in. It is specialised in its expertise, but it is geo graph i cally specialised. The UK or US are worldwide. We focus on fifteen cities\n",
      ".45 Many deplore the political situation in Israel; they describe the West Bank as a de facto apartheid state. However, whatever the political\n",
      "situation, the IDF provide a perspicuous example of how AI has been employed for targeting in urbanised operations. In the last fifteen years, the IDF\n",
      "have sought to exploit data as a way of tracing and targeting Palestinian militants and terrorists. No matter how many countermea sures they employ,\n",
      "Palestinian operatives leave a digital signature in cyberspace. In addition to traditional methods of intelligence collection, the West Bank and the\n",
      "Gaza Strip are now saturated with Israeli sensors, including satellites, radar, drones, and cameras. In addition, open sources have become a means of\n",
      "collecting rich intelligence, but the amounts of data they may involve are vast. IDF officers emphasise the prob lem: the data is endless, reaching\n",
      "into petabytes (one million gigabytes) in some areas .46 The data revolution has led to massive amounts of operational data being collected from\n",
      "cameras, microphones, networks, information systems, and devices. The human factor is no longer sufficient, as soldiers cannot physically keep up with\n",
      "the amount of incoming data .47 The IDF have a data prob lem. Consequently, in the last decade, the IDF have created a number of specialist units to\n",
      "process data; AI has become cru  cial. I have already mentioned Unit 8200, but Unit 9900, J6/C4I Directorprimarily used to process data across a range\n",
      "of functions to help planning, intelligence, situational awareness, cooperation, and military decision- making. It will support military operations,\n",
      "not automate them. JADC2 is a Pentagon- level, joint, and cross- domain effort. Notably, the  services have been developing their own doctrines about\n",
      "AI too. The US Air Force has been at the forefront of this thinking. It recognises that data has become essential to its operations. However, because\n",
      "its datasets are so huge, they are exceedingly difficult to mine. It is very easy for a commander to become overwhelmed by data and, therefore, for a\n",
      "force to miss impor tant data points. The US Air Force has had considerable experience of this prob lem of data overload. In 2017, an assault on an al\n",
      "Qaeda safe house in Afghanistan produced 40 terabytes of data. If just a quarter of that data were in the form of videos, it would take a person 208\n",
      "days, working twenty- four hours a day, to review it all. However, with AI preparing and triaging raw collected data, human analysts would have more\n",
      "time to evaluate the material and apply their expertise . In the CIA, for instance, AI is already saving all- source intelligence analysts forty-\n",
      "five days a year.21 It is simply impossible for the air force to operate effectively without using AI. Consequently, on 20 September 2021, Secretary\n",
      "of the Air Force Frank Kendall announced that the air force had deployed AI algorithms\n"
     ]
    }
   ],
   "execution_count": 16
  },
  {
   "metadata": {
    "ExecuteTime": {
     "end_time": "2025-07-26T03:03:46.324995Z",
     "start_time": "2025-07-26T03:03:46.315350Z"
    }
   },
   "cell_type": "code",
   "source": "messages_2=[(\"human\",augmented_prompt_2)]",
   "id": "15151712c7343a87",
   "outputs": [],
   "execution_count": 17
  },
  {
   "metadata": {
    "ExecuteTime": {
     "end_time": "2025-07-26T03:05:54.704077Z",
     "start_time": "2025-07-26T03:05:16.361761Z"
    }
   },
   "cell_type": "code",
   "source": "ai_msg_2 = llm.invoke(messages_2)",
   "id": "1edd03a182710bd2",
   "outputs": [],
   "execution_count": 19
  },
  {
   "metadata": {
    "ExecuteTime": {
     "end_time": "2025-07-26T03:13:41.399222Z",
     "start_time": "2025-07-26T03:13:41.394103Z"
    }
   },
   "cell_type": "code",
   "source": [
    "answer_2=ai_msg_2.content\n",
    "\n",
    "print(answer_2)"
   ],
   "id": "c6622e2e00548d7",
   "outputs": [
    {
     "name": "stdout",
     "output_type": "stream",
     "text": [
      "Based on the provided context, it seems that while robot weapons and drones won't completely replace humans in the military area, they will significantly change the way warfare is conducted. The development of AI and its accompanying military-tech complex will magnify the destructive power of weapons and potentially overwhelm traditional human forces.\n",
      "\n",
      "The experts quoted in the text suggest that autonomous drone swarms, for example, could level a town or bring down a bridge/skyscraper. They also envision scenarios where drones and robots could replace soldiers and manned artillery altogether, with autonomous submarines and trucks carrying supplies and missiles into contested areas.\n",
      "\n",
      "However, it's worth noting that this does not necessarily mean that human soldiers will be completely replaced by robots. Rather, they will likely work alongside AI-powered systems to enhance their capabilities and make them more effective in combat situations.\n"
     ]
    }
   ],
   "execution_count": 28
  },
  {
   "metadata": {
    "ExecuteTime": {
     "end_time": "2025-07-26T03:09:48.014193Z",
     "start_time": "2025-07-26T03:09:47.908875Z"
    }
   },
   "cell_type": "code",
   "source": [
    "# Another question\n",
    "query_3 = \"Which countries are the top competitors in the fields of AI and cyber operations?\"\n",
    "retrieved_docs_3 = vector_store.similarity_search(query_3, k=2)"
   ],
   "id": "f74f3270749b3e68",
   "outputs": [],
   "execution_count": 22
  },
  {
   "metadata": {
    "ExecuteTime": {
     "end_time": "2025-07-26T03:10:12.705037Z",
     "start_time": "2025-07-26T03:10:12.698909Z"
    }
   },
   "cell_type": "code",
   "source": "retrieved_context_3 = retrieved_docs_3[0].page_content + retrieved_docs_3[1].page_content",
   "id": "c4596d881ae5c00c",
   "outputs": [],
   "execution_count": 23
  },
  {
   "metadata": {
    "ExecuteTime": {
     "end_time": "2025-07-26T03:10:41.306784Z",
     "start_time": "2025-07-26T03:10:41.299496Z"
    }
   },
   "cell_type": "code",
   "source": [
    "augmented_prompt_3 = f\"\"\"\n",
    "Answer only based on the following context.\n",
    "Question: {query_3}\n",
    "Context : {retrieved_context_3}\n",
    "\"\"\""
   ],
   "id": "24f36fff93330027",
   "outputs": [],
   "execution_count": 24
  },
  {
   "metadata": {
    "ExecuteTime": {
     "end_time": "2025-07-26T03:12:02.816292Z",
     "start_time": "2025-07-26T03:11:35.290432Z"
    }
   },
   "cell_type": "code",
   "source": [
    "messages_3=[(\"human\",augmented_prompt_3)]\n",
    "\n",
    "ai_msg_3 = llm.invoke(messages_3)"
   ],
   "id": "f9a5b4608a9a792e",
   "outputs": [],
   "execution_count": 25
  },
  {
   "metadata": {
    "ExecuteTime": {
     "end_time": "2025-07-26T03:13:45.484314Z",
     "start_time": "2025-07-26T03:13:45.479673Z"
    }
   },
   "cell_type": "code",
   "source": [
    "answer_3 = ai_msg_3.content\n",
    "\n",
    "print(answer_3)"
   ],
   "id": "e94f3417eaa1c6fd",
   "outputs": [
    {
     "name": "stdout",
     "output_type": "stream",
     "text": [
      "Based on the given context, top countries competing in AI and cyber operations fields include:\n",
      "\n",
      "1. China: Known to have perpetrated industrial-scale cyberespionage against rival states.\n",
      "2. United States (USA): The National Security Agency has been involved in monitoring cyber traffic, even of US allies, as revealed by Snowden.\n",
      "\n",
      "These two countries are mentioned as key players in the context of AI-enabled cyber operations and their involvement in both defensive and offensive capabilities within the field.\n"
     ]
    }
   ],
   "execution_count": 29
  },
  {
   "metadata": {},
   "cell_type": "code",
   "outputs": [],
   "execution_count": null,
   "source": "",
   "id": "acabd2c3712c134e"
  }
 ],
 "metadata": {
  "kernelspec": {
   "display_name": "Python 3",
   "language": "python",
   "name": "python3"
  },
  "language_info": {
   "codemirror_mode": {
    "name": "ipython",
    "version": 2
   },
   "file_extension": ".py",
   "mimetype": "text/x-python",
   "name": "python",
   "nbconvert_exporter": "python",
   "pygments_lexer": "ipython2",
   "version": "2.7.6"
  }
 },
 "nbformat": 4,
 "nbformat_minor": 5
}
